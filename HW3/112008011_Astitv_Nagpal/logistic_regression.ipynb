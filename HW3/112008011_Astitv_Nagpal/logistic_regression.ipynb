{
 "cells": [
  {
   "cell_type": "markdown",
   "metadata": {},
   "source": [
    "## Logistic Regression with SGD"
   ]
  },
  {
   "cell_type": "markdown",
   "metadata": {},
   "source": [
    "To begin you first need to install all dependencies, using:\n",
    "\n",
    "    pip install -r requirements.txt"
   ]
  },
  {
   "cell_type": "code",
   "execution_count": 174,
   "metadata": {
    "collapsed": true
   },
   "outputs": [],
   "source": [
    "import numpy as np\n",
    "import matplotlib.pyplot as plt\n",
    "\n",
    "from math import exp, log\n",
    "import os\n",
    "import pickle\n",
    "\n",
    "from skimage import io\n",
    "from skimage.color import rgb2gray\n",
    "from skimage.feature import hog\n",
    "\n",
    "from sklearn.metrics import accuracy_score\n",
    "from sklearn.metrics import precision_recall_curve\n",
    "from sklearn.metrics import roc_curve, auc\n",
    "import random\n",
    "from sklearn.utils.fixes import signature\n",
    "from sklearn.metrics import average_precision_score"
   ]
  },
  {
   "cell_type": "code",
   "execution_count": 3,
   "metadata": {
    "collapsed": true
   },
   "outputs": [],
   "source": [
    "%matplotlib inline"
   ]
  },
  {
   "cell_type": "markdown",
   "metadata": {},
   "source": [
    "### load the dataset"
   ]
  },
  {
   "cell_type": "code",
   "execution_count": 4,
   "metadata": {
    "collapsed": true
   },
   "outputs": [],
   "source": [
    "### set your image dir here\n",
    "IMAGE_DIR = \"/Users/astitvnagpal/Ghost_Files/SBU/Sem1/ML/HomeWork/HW3/upload_folder/\""
   ]
  },
  {
   "cell_type": "code",
   "execution_count": 5,
   "metadata": {
    "collapsed": true
   },
   "outputs": [],
   "source": [
    "def load_dataset(subset=\"train\"):\n",
    "    \"\"\"\n",
    "    1. subset = \"train\", \"val\", \"test\"\n",
    "    2. About the dataset: in \"train\",\"val\" subset, the first half of images are images of hands, the rest half are images of not-hand. \n",
    "    3. extract features from HoG\n",
    "    \"\"\"\n",
    "    path = os.path.join(IMAGE_DIR,subset)\n",
    "    name_list = os.listdir(path)\n",
    "    print(\"Number of images in {}-set: {}\".format(subset, len(name_list)))\n",
    "    #HoG returns 324 features\n",
    "    X = np.zeros(shape=(len(name_list), 324))\n",
    "\n",
    "    if subset == \"train\" or subset == \"val\":\n",
    "        #Make sure that we have equal number of positive and negative class images\n",
    "        assert len(name_list)%2 == 0\n",
    "        count = len(name_list)//2\n",
    "        y = np.array(count*[1] + count*[0])\n",
    "        for idx_true in range(count):\n",
    "            img_name = os.path.join(path,str(idx_true)+\".png\")\n",
    "            img = io.imread(img_name)\n",
    "            img = rgb2gray(img)\n",
    "            vec = hog(img)\n",
    "            X[idx_true, :] = vec\n",
    "        \n",
    "        for idx in range(count):\n",
    "            idx_false = idx + count\n",
    "            img_name = os.path.join(path,str(idx_false)+\".png\")\n",
    "            img = io.imread(img_name)\n",
    "            img = rgb2gray(img)\n",
    "            vec = hog(img)\n",
    "            X[idx_false, :] = vec\n",
    "        return X, y        \n",
    "    else:\n",
    "        for idx in range(len(name_list)):\n",
    "            img_name = os.path.join(path, str(idx)+\".png\")\n",
    "            img = io.imread(img_name)\n",
    "            img = rgb2gray(img)\n",
    "            vec = hog(img)\n",
    "            X[idx, :] = vec\n",
    "        return X"
   ]
  },
  {
   "cell_type": "markdown",
   "metadata": {},
   "source": [
    "### load the data"
   ]
  },
  {
   "cell_type": "code",
   "execution_count": 6,
   "metadata": {},
   "outputs": [
    {
     "name": "stdout",
     "output_type": "stream",
     "text": [
      "Number of images in train-set: 8170\n"
     ]
    },
    {
     "name": "stderr",
     "output_type": "stream",
     "text": [
      "/anaconda3/lib/python3.6/site-packages/skimage/feature/_hog.py:119: skimage_deprecation: Default value of `block_norm`==`L1` is deprecated and will be changed to `L2-Hys` in v0.15\n",
      "  'be changed to `L2-Hys` in v0.15', skimage_deprecation)\n"
     ]
    },
    {
     "name": "stdout",
     "output_type": "stream",
     "text": [
      "Number of images in val-set: 2724\n",
      "Number of images in test-set: 5542\n"
     ]
    }
   ],
   "source": [
    "X_train, y_train = load_dataset(\"train\")\n",
    "X_val, y_val = load_dataset(\"val\")\n",
    "X_test = load_dataset(\"test\")"
   ]
  },
  {
   "cell_type": "code",
   "execution_count": null,
   "metadata": {
    "collapsed": true
   },
   "outputs": [],
   "source": [
    "# This was for my practice and understanding \n",
    "# Kindly ignore these cells\n",
    "# *******************   From here  *************************"
   ]
  },
  {
   "cell_type": "code",
   "execution_count": 381,
   "metadata": {},
   "outputs": [
    {
     "data": {
      "text/plain": [
       "(8170, 324)"
      ]
     },
     "execution_count": 381,
     "metadata": {},
     "output_type": "execute_result"
    }
   ],
   "source": [
    "X_train.shape"
   ]
  },
  {
   "cell_type": "code",
   "execution_count": 382,
   "metadata": {},
   "outputs": [
    {
     "data": {
      "text/plain": [
       "(2724, 324)"
      ]
     },
     "execution_count": 382,
     "metadata": {},
     "output_type": "execute_result"
    }
   ],
   "source": [
    "X_val.shape"
   ]
  },
  {
   "cell_type": "code",
   "execution_count": 145,
   "metadata": {
    "collapsed": true
   },
   "outputs": [],
   "source": [
    "eve = np.hstack((np.transpose(X_train), np.transpose(X_val)))"
   ]
  },
  {
   "cell_type": "code",
   "execution_count": 146,
   "metadata": {
    "collapsed": true
   },
   "outputs": [],
   "source": [
    "eve_x = np.transpose(eve)"
   ]
  },
  {
   "cell_type": "code",
   "execution_count": 147,
   "metadata": {},
   "outputs": [
    {
     "data": {
      "text/plain": [
       "(10894, 324)"
      ]
     },
     "execution_count": 147,
     "metadata": {},
     "output_type": "execute_result"
    }
   ],
   "source": [
    "eve_x.shape"
   ]
  },
  {
   "cell_type": "code",
   "execution_count": 148,
   "metadata": {
    "collapsed": true
   },
   "outputs": [],
   "source": [
    "eve_y = np.hstack((np.transpose(y_train), np.transpose(y_val)))"
   ]
  },
  {
   "cell_type": "code",
   "execution_count": 149,
   "metadata": {
    "collapsed": true
   },
   "outputs": [],
   "source": [
    "eve_y = np.transpose(eve_y)"
   ]
  },
  {
   "cell_type": "code",
   "execution_count": 150,
   "metadata": {},
   "outputs": [
    {
     "data": {
      "text/plain": [
       "(10894,)"
      ]
     },
     "execution_count": 150,
     "metadata": {},
     "output_type": "execute_result"
    }
   ],
   "source": [
    "eve_y.shape"
   ]
  },
  {
   "cell_type": "code",
   "execution_count": 151,
   "metadata": {},
   "outputs": [
    {
     "data": {
      "text/plain": [
       "(8170,)"
      ]
     },
     "execution_count": 151,
     "metadata": {},
     "output_type": "execute_result"
    }
   ],
   "source": [
    "y_train.shape"
   ]
  },
  {
   "cell_type": "code",
   "execution_count": null,
   "metadata": {
    "collapsed": true
   },
   "outputs": [],
   "source": [
    "#. Ignore\n",
    "# ***************************** Till Here  **************************"
   ]
  },
  {
   "cell_type": "markdown",
   "metadata": {},
   "source": [
    "### displaying images"
   ]
  },
  {
   "cell_type": "code",
   "execution_count": 7,
   "metadata": {
    "collapsed": true
   },
   "outputs": [],
   "source": [
    "def display(img_path):\n",
    "    \"\"\"\n",
    "    visualize the img\n",
    "    \"\"\"\n",
    "    img = io.imread(img_path)\n",
    "    print(img_path)\n",
    "    io.imshow(img)\n",
    "    io.show()"
   ]
  },
  {
   "cell_type": "code",
   "execution_count": 8,
   "metadata": {},
   "outputs": [
    {
     "name": "stdout",
     "output_type": "stream",
     "text": [
      "/Users/astitvnagpal/Ghost_Files/SBU/Sem1/ML/HomeWork/HW3/upload_folder/train/1.png\n"
     ]
    },
    {
     "name": "stderr",
     "output_type": "stream",
     "text": [
      "/anaconda3/lib/python3.6/site-packages/skimage/io/_plugins/matplotlib_plugin.py:51: FutureWarning: Conversion of the second argument of issubdtype from `float` to `np.floating` is deprecated. In future, it will be treated as `np.float64 == np.dtype(float).type`.\n",
      "  out_of_range_float = (np.issubdtype(image.dtype, np.float) and\n"
     ]
    },
    {
     "data": {
      "image/png": "[encoded data removed]",
      "text/plain": [
       "<matplotlib.figure.Figure at 0x1c17551cf8>"
      ]
     },
     "metadata": {},
     "output_type": "display_data"
    }
   ],
   "source": [
    "display(IMAGE_DIR+\"train/1.png\")"
   ]
  },
  {
   "cell_type": "markdown",
   "metadata": {},
   "source": [
    "### Logistic regression"
   ]
  },
  {
   "cell_type": "markdown",
   "metadata": {},
   "source": [
    "#### Main function in the class\n",
    "1. \\__init\\__() which sets the hyper parameters\n",
    "2. sigmoid()\n",
    "3. __init_param(), initializes the parameters .\n",
    "4. fit(): train the data\n",
    "5. predict_proba(): predict the probability of the sample belonging to the positive class\n",
    "6. predict(): classify the sample\n",
    "\n",
    "\n",
    "Feel free to overlook the rest of the parts of the code, it's just for convenience.\n"
   ]
  },
  {
   "cell_type": "code",
   "execution_count": 60,
   "metadata": {
    "collapsed": true
   },
   "outputs": [],
   "source": [
    "class LogisticRegression:\n",
    "    \"\"\"\n",
    "    Logistic Regression\n",
    "    \"\"\"\n",
    "    def __init__(self, eta0=0.1, eta1=1, m=16, max_epoch=1000, delta=0.0001):\n",
    "        \"\"\"\n",
    "        m is the batch_size\n",
    "        \"\"\"\n",
    "        self.__init = True # whether to initial the parameters\n",
    "        self.__eta0 = eta0\n",
    "        self.__eta1 = eta1\n",
    "        self.__delta = delta\n",
    "        self.__m = m\n",
    "        self.__max_epoch = max_epoch\n",
    "        \n",
    "    def sigmoid(self, x):\n",
    "        return 1.0 / (1 + np.exp(-x))\n",
    "    \n",
    "    def __init_param(self):\n",
    "        \"\"\"\n",
    "        Weights initialized using a normal distribution here: you can change the distribution.\n",
    "        \"\"\"\n",
    "        d = self.__dimension\n",
    "        self.__wt = np.random.randn(1,d)\n",
    "        self.__bias = np.random.randn()\n",
    "        return self.__wt,self.__bias\n",
    "     \n",
    "    def getBatch(self, X, y, size):\n",
    "        batches_list = []\n",
    "        for i in np.arange(0, X.shape[1], size):\n",
    "            batches_list.append((X[:, i:i + size], y[i:i + size]))\n",
    "        return batches_list\n",
    "    \n",
    "    def loss(self, X, y, theta):\n",
    "        part1 = np.log(self.sigmoid(np.dot(np.transpose(theta), np.transpose(X))))\n",
    "        part2 = np.log(1 - self.sigmoid(np.dot(np.transpose(theta), np.transpose(X))))\n",
    "        ans = np.dot(np.transpose(-y), np.transpose(part1)) - np.dot(np.transpose((1-y)), np.transpose(part2))\n",
    "        ans = ans/y.shape[0]\n",
    "        return ans\n",
    "                    \n",
    "    def fit(self, X, y, X_val=None, y_val=None):\n",
    "        \"\"\"\n",
    "        Recommended input:\n",
    "        X: n x d array,\n",
    "        y: n x 1 array or list\n",
    "        \"\"\"\n",
    "        n, d = X.shape\n",
    "        self.__dimension = d\n",
    "        \n",
    "        if self.__init:\n",
    "            self.__init_param()\n",
    "        \n",
    "        theta_first = np.append(self.__wt, self.__bias)\n",
    "        theta_first = np.reshape(theta_first, (len(theta_first),1))\n",
    "        ones = [1]*n\n",
    "        X_t = np.transpose(X)\n",
    "        y = np.reshape(y,(X.shape[0],1))\n",
    "        y_t = np.transpose(y)\n",
    "        X_t_b = np.vstack((X_t, ones))\n",
    "        theta = theta_first\n",
    "        \n",
    "        theta_epoch_list = []\n",
    "        epoch_value_list = []\n",
    "        theta_loss_list = []\n",
    "        accuracy_per_epoch_list = []\n",
    "        \n",
    "        for i in range(1, self.__max_epoch+1):\n",
    "            \n",
    "            eta = self.__eta0/(i+self.__eta1)\n",
    "            comb = np.hstack([np.transpose(X_t_b), y])\n",
    "            np.random.shuffle(comb)\n",
    "            X_s = comb[:,:-1]\n",
    "            y_s = comb[:,-1]\n",
    "            y_s = np.reshape(y_s,(X_s.shape[0],1))\n",
    "            y_s_t = np.transpose(y_s)\n",
    "            X_s_t = np.transpose(X_s)\n",
    "            for batch in self.getBatch(X_s_t, y_s, self.__m):\n",
    "                X_batch = batch[0]\n",
    "                y_batch = batch[1]\n",
    "                exp = np.dot(np.transpose(theta), X_batch)\n",
    "                sig = self.sigmoid(exp)\n",
    "                ans = np.dot((sig - (np.transpose(y_batch))), np.transpose(X_batch))\n",
    "                ans = ans/self.__m\n",
    "                theta = theta - eta*np.transpose(ans)\n",
    "                \n",
    "            self.theta_final = theta\n",
    "            predictions = self.predict(X)\n",
    "            predictions = predictions[0]\n",
    "            accuracy = accuracy_score(predictions, y)   \n",
    "            \n",
    "            loss_theta_new = self.loss(X_s, y_s, theta)\n",
    "            loss_theta_old = (1-self.__delta)*self.loss(X_s, y_s, theta_first)\n",
    "            \n",
    "            theta_epoch_list.append(theta)\n",
    "            epoch_value_list.append(i)\n",
    "            theta_loss_list.append(loss_theta_new)\n",
    "            accuracy_per_epoch_list.append(accuracy)\n",
    "            \n",
    "            if loss_theta_new > loss_theta_old:\n",
    "                # Removig the last saved values as they will be bigger loss.\n",
    "                theta_epoch_list = theta_epoch_list[:-1]\n",
    "                epoch_value_list = epoch_value_list[:-1]\n",
    "                theta_loss_list = theta_loss_list[:-1]\n",
    "                accuracy_per_epoch_list = accuracy_per_epoch_list[:-1]\n",
    "                break\n",
    "                \n",
    "            theta_first = theta\n",
    "            \n",
    "        self.theta_final = theta_epoch_list[-1]\n",
    "        return theta_epoch_list, epoch_value_list, theta_loss_list, accuracy_per_epoch_list             \n",
    "          \n",
    "    \n",
    "    def predict_proba(self, X):\n",
    "        \"\"\"\n",
    "        predict the probility of the sample\n",
    "        You can refer to my code below\n",
    "        \"\"\"\n",
    "        n, d = X.shape\n",
    "        ones = [1]*n\n",
    "        X_t = np.transpose(X)\n",
    "        X_t_b = np.vstack((X_t, ones))\n",
    "        pred = self.sigmoid(np.dot(np.transpose(self.theta_final), X_t_b))\n",
    "        return pred \n",
    "            \n",
    "    def predict(self, X):\n",
    "        \"\"\"\n",
    "        Classify the sample\n",
    "        \"\"\"\n",
    "        return self.predict_proba(X) >= 0.5\n",
    "    \n",
    "    def get_param(self):\n",
    "        \"\"\"\n",
    "        output:\n",
    "            parameters: wt(1*d array), b(scalar)\n",
    "        \"\"\"\n",
    "        return [self.__wt, self.__bias]\n",
    "    \n",
    "    def save_model(self, save_file):\n",
    "        \"\"\"\n",
    "        save model to .pkl file\n",
    "        \"\"\"\n",
    "        with open(save_file,\"wb\") as file:\n",
    "            pickle.dump([self.__wt, self.__bias],file)\n",
    "\n",
    "    def load_model(self, load_file):\n",
    "        \"\"\"\n",
    "        load model from .pkl file\n",
    "        \"\"\"\n",
    "        with open(load_file,\"rb\") as file:\n",
    "            param = pickle.load(file)\n",
    "        self.__wt = param[0]\n",
    "        self.__bias = param[1]\n",
    "        self.__init = False\n",
    "        return self.__wt, self.__bias"
   ]
  },
  {
   "cell_type": "markdown",
   "metadata": {},
   "source": [
    "## Question 2.3"
   ]
  },
  {
   "cell_type": "markdown",
   "metadata": {
    "scrolled": true
   },
   "source": [
    "### 1. Baseline Model"
   ]
  },
  {
   "cell_type": "code",
   "execution_count": 61,
   "metadata": {
    "collapsed": true,
    "scrolled": true
   },
   "outputs": [],
   "source": [
    "LR = LogisticRegression()\n",
    "theta_epoch_list_train, epoch_value_list_train, theta_loss_list_train, acc_per_epoch_train = LR.fit(X_train,y_train)"
   ]
  },
  {
   "cell_type": "code",
   "execution_count": 62,
   "metadata": {},
   "outputs": [
    {
     "name": "stdout",
     "output_type": "stream",
     "text": [
      "0.8057527539779682\n"
     ]
    }
   ],
   "source": [
    "pred_bool_train = LR.predict(X_train)\n",
    "pred_train = pred_bool_train[0]\n",
    "print(accuracy_score(pred_train, y_train))"
   ]
  },
  {
   "cell_type": "code",
   "execution_count": 63,
   "metadata": {
    "collapsed": true
   },
   "outputs": [],
   "source": [
    "# Fetching the values out of the array\n",
    "theta_loss_train = []\n",
    "for i in range(len(theta_loss_list_train)):\n",
    "    theta_loss_train.append(theta_loss_list_train[i][0][0])"
   ]
  },
  {
   "cell_type": "code",
   "execution_count": null,
   "metadata": {
    "collapsed": true
   },
   "outputs": [],
   "source": []
  },
  {
   "cell_type": "markdown",
   "metadata": {},
   "source": [
    "(a) Number of epochs till termination = __"
   ]
  },
  {
   "cell_type": "code",
   "execution_count": 64,
   "metadata": {},
   "outputs": [
    {
     "name": "stdout",
     "output_type": "stream",
     "text": [
      "339\n"
     ]
    }
   ],
   "source": [
    "# Answer (a) : Number of epochs till termination:\n",
    "print(epoch_value_list_train[-1])"
   ]
  },
  {
   "cell_type": "markdown",
   "metadata": {
    "collapsed": true
   },
   "source": [
    "Number of epochs till termination: = 399"
   ]
  },
  {
   "cell_type": "code",
   "execution_count": null,
   "metadata": {
    "collapsed": true
   },
   "outputs": [],
   "source": [
    "# (b) Plot L(theta) vs num_epochs"
   ]
  },
  {
   "cell_type": "code",
   "execution_count": 65,
   "metadata": {},
   "outputs": [
    {
     "data": {
      "text/plain": [
       "Text(0.5,1,'Loss(theta) vs Epoch_Value')"
      ]
     },
     "execution_count": 65,
     "metadata": {},
     "output_type": "execute_result"
    },
    {
     "data": {
      "image/png": "[encoded data removed]",
      "text/plain": [
       "<matplotlib.figure.Figure at 0x1c216a9828>"
      ]
     },
     "metadata": {},
     "output_type": "display_data"
    }
   ],
   "source": [
    "# Plotting Loss(theta) vs Epoch_Value\n",
    "plt.figure(figsize=(10,6))\n",
    "plt.plot(epoch_value_list_train, theta_loss_train)\n",
    "plt.ylabel('Loss(theta) values')\n",
    "plt.xlabel('Epoch values')\n",
    "plt.title('Loss(theta) vs Epoch_Value')"
   ]
  },
  {
   "cell_type": "code",
   "execution_count": null,
   "metadata": {
    "collapsed": true
   },
   "outputs": [],
   "source": []
  },
  {
   "cell_type": "markdown",
   "metadata": {},
   "source": [
    "(c) Final value of L($\\theta$) after optimization = __"
   ]
  },
  {
   "cell_type": "code",
   "execution_count": 66,
   "metadata": {},
   "outputs": [
    {
     "name": "stdout",
     "output_type": "stream",
     "text": [
      "0.5176151929899254\n"
     ]
    }
   ],
   "source": [
    "# (c) Final value of L(θ) after optimization = \n",
    "print(theta_loss_train[-1])"
   ]
  },
  {
   "cell_type": "markdown",
   "metadata": {
    "collapsed": true
   },
   "source": [
    "Final value of L(θ) after optimization = 0.5176151929899254"
   ]
  },
  {
   "cell_type": "markdown",
   "metadata": {},
   "source": [
    "### 2. Experimenting with ($\\eta_0$,$\\eta_1$)"
   ]
  },
  {
   "cell_type": "code",
   "execution_count": null,
   "metadata": {
    "collapsed": true
   },
   "outputs": [],
   "source": [
    "# Experimentation code goes here"
   ]
  },
  {
   "cell_type": "code",
   "execution_count": 75,
   "metadata": {},
   "outputs": [
    {
     "name": "stderr",
     "output_type": "stream",
     "text": [
      "/anaconda3/lib/python3.6/site-packages/ipykernel_launcher.py:36: RuntimeWarning: divide by zero encountered in log\n"
     ]
    }
   ],
   "source": [
    "eta0_list = []\n",
    "theta_loss_values = []\n",
    "for i in range(10,400, 10):\n",
    "    LR = LogisticRegression(i)\n",
    "    theta_epoch_list, epoch_value_list, theta_loss_list, acc_list = LR.fit(X_train,y_train)\n",
    "    eta0_list.append(i)\n",
    "    theta_loss_values.append(theta_loss_list[-1][0][0])"
   ]
  },
  {
   "cell_type": "code",
   "execution_count": 78,
   "metadata": {},
   "outputs": [
    {
     "data": {
      "text/plain": [
       "Text(0,0.5,'Loss(theta) values')"
      ]
     },
     "execution_count": 78,
     "metadata": {},
     "output_type": "execute_result"
    },
    {
     "data": {
      "image/png": "[encoded data removed]",
      "text/plain": [
       "<matplotlib.figure.Figure at 0x1c25315160>"
      ]
     },
     "metadata": {},
     "output_type": "display_data"
    }
   ],
   "source": [
    "plt.figure(figsize=(15,6))\n",
    "plt.plot(eta0_list, theta_loss_values)\n",
    "plt.xlabel('eta-0 values')\n",
    "plt.ylabel('Loss(theta) values')"
   ]
  },
  {
   "cell_type": "markdown",
   "metadata": {
    "collapsed": true
   },
   "source": [
    "eta-0 is performing best at around value 40. Using this value and checking for eta-1"
   ]
  },
  {
   "cell_type": "code",
   "execution_count": 82,
   "metadata": {
    "collapsed": true
   },
   "outputs": [],
   "source": [
    "eta1_list = []\n",
    "theta_loss_values_1 = []\n",
    "for i in range(1, 21, 1):\n",
    "    LR = LogisticRegression(40, i/20)\n",
    "    theta_epoch_list_1, epoch_value_list_1, theta_loss_list_1, acc_list_1 = LR.fit(X_train,y_train)\n",
    "    eta1_list.append(i/20)\n",
    "    theta_loss_values_1.append(theta_loss_list_1[-1][0][0])"
   ]
  },
  {
   "cell_type": "code",
   "execution_count": 83,
   "metadata": {},
   "outputs": [
    {
     "data": {
      "text/plain": [
       "Text(0,0.5,'Loss(theta) values')"
      ]
     },
     "execution_count": 83,
     "metadata": {},
     "output_type": "execute_result"
    },
    {
     "data": {
      "image/png": "[encoded data removed]",
      "text/plain": [
       "<matplotlib.figure.Figure at 0x1c253c5d30>"
      ]
     },
     "metadata": {},
     "output_type": "display_data"
    }
   ],
   "source": [
    "plt.figure(figsize=(15,6))\n",
    "plt.plot(eta1_list, theta_loss_values_1)\n",
    "plt.xlabel('eta-1 values')\n",
    "plt.ylabel('Loss(theta) values')"
   ]
  },
  {
   "cell_type": "markdown",
   "metadata": {
    "collapsed": true
   },
   "source": [
    "We observe eta-1 performs best at value 0.2 for eta-0 at 40"
   ]
  },
  {
   "cell_type": "code",
   "execution_count": 132,
   "metadata": {
    "collapsed": true
   },
   "outputs": [],
   "source": [
    "LR = LogisticRegression(40, 0.2)\n",
    "theta_epoch_list_exp, epoch_value_list_exp, theta_loss_list_exp, acc_list_exp = LR.fit(X_train,y_train)"
   ]
  },
  {
   "cell_type": "code",
   "execution_count": 133,
   "metadata": {
    "collapsed": true
   },
   "outputs": [],
   "source": [
    "# Fetching the values out of the array\n",
    "theta_loss_exp = []\n",
    "for i in range(len(theta_loss_list_exp)):\n",
    "    theta_loss_exp.append(theta_loss_list_exp[i][0][0])"
   ]
  },
  {
   "cell_type": "code",
   "execution_count": 134,
   "metadata": {},
   "outputs": [
    {
     "name": "stdout",
     "output_type": "stream",
     "text": [
      "0.896328029375765\n"
     ]
    }
   ],
   "source": [
    "pred_bool_exp = LR.predict(X_train)\n",
    "pred_exp = pred_bool_exp[0]\n",
    "print(accuracy_score(pred_exp, y_train))"
   ]
  },
  {
   "cell_type": "markdown",
   "metadata": {},
   "source": [
    "(a) Best value for, $\\eta_0$ = \\__, $\\eta_1$ = \\__\n",
    "\n",
    "Number of epochs for training = __\n",
    "\n",
    "Final value of L($\\theta$) = __"
   ]
  },
  {
   "cell_type": "code",
   "execution_count": 186,
   "metadata": {},
   "outputs": [
    {
     "name": "stdout",
     "output_type": "stream",
     "text": [
      "4\n",
      "0.26155505584268873\n"
     ]
    }
   ],
   "source": [
    "# eta_0 = 40\n",
    "# eta_1 = 0.2\n",
    "\n",
    "# number of epochs = \n",
    "print(epoch_value_list_exp[-1])\n",
    "\n",
    "# Final value of L(theta) = \n",
    "print(theta_loss_list_exp[-1][0][0])"
   ]
  },
  {
   "cell_type": "markdown",
   "metadata": {},
   "source": [
    "eta_0 = 40\n",
    "eta_1 = 0.2\n",
    "number of epochs = 4\n",
    "Final value of L(theta) = 0.26155505584268873"
   ]
  },
  {
   "cell_type": "code",
   "execution_count": 108,
   "metadata": {
    "collapsed": true
   },
   "outputs": [],
   "source": [
    "# (b) For best (eta_0, eta_1) plot L(theta) vs num_epochs"
   ]
  },
  {
   "cell_type": "code",
   "execution_count": 109,
   "metadata": {},
   "outputs": [
    {
     "data": {
      "text/plain": [
       "Text(0,0.5,'Loss(theta) values')"
      ]
     },
     "execution_count": 109,
     "metadata": {},
     "output_type": "execute_result"
    },
    {
     "data": {
      "image/png": "[encoded data removed]",
      "text/plain": [
       "<matplotlib.figure.Figure at 0x1c24fae5f8>"
      ]
     },
     "metadata": {},
     "output_type": "display_data"
    }
   ],
   "source": [
    "plt.figure(figsize=(15,6))\n",
    "plt.plot(epoch_value_list_exp, theta_loss_exp)\n",
    "plt.xlabel('Epoch Values')\n",
    "plt.ylabel('Loss(theta) values')"
   ]
  },
  {
   "cell_type": "markdown",
   "metadata": {},
   "source": [
    "### 3. Evaluating on validation set"
   ]
  },
  {
   "cell_type": "code",
   "execution_count": 116,
   "metadata": {
    "collapsed": true
   },
   "outputs": [],
   "source": [
    "LR = LogisticRegression()\n",
    "theta_epoch_list_val, epoch_value_list_val, theta_loss_list_val, acc_per_epoch_val = LR.fit(X_val,y_val)"
   ]
  },
  {
   "cell_type": "code",
   "execution_count": 117,
   "metadata": {
    "collapsed": true
   },
   "outputs": [],
   "source": [
    "# fetching the values of theta_loss from the array\n",
    "theta_loss_val = []\n",
    "for i in range(len(theta_loss_list_val)):\n",
    "    theta_loss_val.append(theta_loss_list_val[i][0][0])"
   ]
  },
  {
   "cell_type": "code",
   "execution_count": 118,
   "metadata": {},
   "outputs": [
    {
     "name": "stdout",
     "output_type": "stream",
     "text": [
      "0.7276064610866373\n"
     ]
    }
   ],
   "source": [
    "pred_bool_val = LR.predict(X_val)\n",
    "pred_val = pred_bool_val[0]\n",
    "print(accuracy_score(pred_val, y_val))"
   ]
  },
  {
   "cell_type": "markdown",
   "metadata": {},
   "source": [
    "accuracy_score = 0.7276064610866373"
   ]
  },
  {
   "cell_type": "code",
   "execution_count": 119,
   "metadata": {
    "collapsed": true
   },
   "outputs": [],
   "source": [
    "# (a) Plot L(theta) vs num_epochs for both training and validation set on the same figure"
   ]
  },
  {
   "cell_type": "code",
   "execution_count": 120,
   "metadata": {},
   "outputs": [
    {
     "data": {
      "text/plain": [
       "[<matplotlib.lines.Line2D at 0x1c253dc6a0>]"
      ]
     },
     "execution_count": 120,
     "metadata": {},
     "output_type": "execute_result"
    },
    {
     "data": {
      "image/png": "[encoded data removed]",
      "text/plain": [
       "<matplotlib.figure.Figure at 0x1c252a3d68>"
      ]
     },
     "metadata": {},
     "output_type": "display_data"
    }
   ],
   "source": [
    "# Plotting Loss(theta) vs num_epochs\n",
    "plt.figure(figsize=(10,6))\n",
    "plt.ylabel('Loss(theta) values')\n",
    "plt.xlabel('Epoch values')\n",
    "plt.title('Loss(theta) vs Epoch_Value')\n",
    "\n",
    "plt.plot(epoch_value_list_val, theta_loss_val)\n",
    "plt.plot(epoch_value_list_train, theta_loss_train)\n",
    "\n",
    "# Blue Line - Validation Data\n",
    "# Orange Line - Training Data\n"
   ]
  },
  {
   "cell_type": "code",
   "execution_count": 121,
   "metadata": {
    "collapsed": true
   },
   "outputs": [],
   "source": [
    "# (b) Plot Accuracy vs num_epochs for both training and validation set on the same figure"
   ]
  },
  {
   "cell_type": "code",
   "execution_count": 122,
   "metadata": {},
   "outputs": [
    {
     "data": {
      "text/plain": [
       "[<matplotlib.lines.Line2D at 0x104e36630>]"
      ]
     },
     "execution_count": 122,
     "metadata": {},
     "output_type": "execute_result"
    },
    {
     "data": {
      "image/png": "[encoded data removed]",
      "text/plain": [
       "<matplotlib.figure.Figure at 0x1c24fb6518>"
      ]
     },
     "metadata": {},
     "output_type": "display_data"
    }
   ],
   "source": [
    "plt.figure(figsize=(10,6))\n",
    "plt.ylabel('Accuracy')\n",
    "plt.xlabel('Epoch values')\n",
    "plt.title('Accuracy vs Epoch_Value')\n",
    "\n",
    "plt.plot(epoch_value_list_val, acc_per_epoch_val)\n",
    "plt.plot(epoch_value_list_train, acc_per_epoch_train)\n",
    "\n",
    "# Blue Line - Validation Data\n",
    "# Orange Line - Training Data"
   ]
  },
  {
   "cell_type": "code",
   "execution_count": null,
   "metadata": {
    "collapsed": true
   },
   "outputs": [],
   "source": []
  },
  {
   "cell_type": "markdown",
   "metadata": {},
   "source": [
    "### 4. ROC and Precision-Recall curves"
   ]
  },
  {
   "cell_type": "code",
   "execution_count": 123,
   "metadata": {
    "collapsed": true
   },
   "outputs": [],
   "source": [
    "#(a) Plot ROC curve on validation data"
   ]
  },
  {
   "cell_type": "code",
   "execution_count": 124,
   "metadata": {},
   "outputs": [
    {
     "data": {
      "text/plain": [
       "Text(0.5,0,'False Positive Rate')"
      ]
     },
     "execution_count": 124,
     "metadata": {},
     "output_type": "execute_result"
    },
    {
     "data": {
      "image/png": "[encoded data removed]",
      "text/plain": [
       "<matplotlib.figure.Figure at 0x1c2523c5f8>"
      ]
     },
     "metadata": {},
     "output_type": "display_data"
    }
   ],
   "source": [
    "false_positive_rate, true_positive_rate, thresholds = roc_curve(y_val, pred_val)\n",
    "roc_auc = auc(false_positive_rate, true_positive_rate)\n",
    "plt.title('ROC Graph')\n",
    "plt.plot(false_positive_rate, true_positive_rate, label='Area Under Curve = %0.5f'% roc_auc)\n",
    "plt.legend(loc='lower right')\n",
    "plt.plot([0,1],[0,1],'r')\n",
    "plt.ylabel('True Positive Rate')\n",
    "plt.xlabel('False Positive Rate')"
   ]
  },
  {
   "cell_type": "markdown",
   "metadata": {},
   "source": [
    "Area under curve = __"
   ]
  },
  {
   "cell_type": "code",
   "execution_count": 125,
   "metadata": {},
   "outputs": [
    {
     "name": "stdout",
     "output_type": "stream",
     "text": [
      "0.7276064610866374\n"
     ]
    }
   ],
   "source": [
    "print(roc_auc)"
   ]
  },
  {
   "cell_type": "markdown",
   "metadata": {},
   "source": [
    "Area under curve = 0.7276064610866374"
   ]
  },
  {
   "cell_type": "code",
   "execution_count": 126,
   "metadata": {
    "collapsed": true
   },
   "outputs": [],
   "source": [
    "#(a) Plot Precision-Recall curve on validation data"
   ]
  },
  {
   "cell_type": "code",
   "execution_count": 184,
   "metadata": {},
   "outputs": [
    {
     "data": {
      "text/plain": [
       "Text(0.5,1,'Precision-Recall curve')"
      ]
     },
     "execution_count": 184,
     "metadata": {},
     "output_type": "execute_result"
    },
    {
     "data": {
      "image/png": "[encoded data removed]",
      "text/plain": [
       "<matplotlib.figure.Figure at 0x104df3cf8>"
      ]
     },
     "metadata": {},
     "output_type": "display_data"
    }
   ],
   "source": [
    "precision, recall, thresholds = precision_recall_curve(y_val, pred_val)\n",
    "average_precision = average_precision_score(y_val, pred_val)\n",
    "step_kwargs = ({'step': 'post'}\n",
    "               if 'step' in signature(plt.fill_between).parameters\n",
    "               else {})\n",
    "plt.step(recall, precision, color='r', alpha=0.8,\n",
    "         where='post')\n",
    "plt.fill_between(recall, precision, alpha=0.3, **step_kwargs)\n",
    "plt.xlabel('Recall')\n",
    "plt.ylabel('Precision')\n",
    "plt.title('Precision-Recall curve')"
   ]
  },
  {
   "cell_type": "code",
   "execution_count": 129,
   "metadata": {
    "collapsed": true
   },
   "outputs": [],
   "source": [
    "# Average Precision = __"
   ]
  },
  {
   "cell_type": "code",
   "execution_count": 185,
   "metadata": {},
   "outputs": [
    {
     "data": {
      "text/plain": [
       "0.6611575949304713"
      ]
     },
     "execution_count": 185,
     "metadata": {},
     "output_type": "execute_result"
    }
   ],
   "source": [
    "average_precision"
   ]
  },
  {
   "cell_type": "markdown",
   "metadata": {},
   "source": [
    "Average Precision = 0.6611575949304713"
   ]
  },
  {
   "cell_type": "markdown",
   "metadata": {},
   "source": [
    "## Question 2.4"
   ]
  },
  {
   "cell_type": "markdown",
   "metadata": {},
   "source": [
    "### 1. Submission"
   ]
  },
  {
   "cell_type": "code",
   "execution_count": 167,
   "metadata": {
    "collapsed": true
   },
   "outputs": [],
   "source": [
    "import pandas as pd\n",
    "def submission(y_pred):\n",
    "    \"\"\"\n",
    "    generate the submission.csv for kaggle\n",
    "    input args:\n",
    "        y_pred: 5542x1 array or list contains 5542 elements\n",
    "        \n",
    "    \"\"\"\n",
    "    save_file = pd.DataFrame(columns=[\"Id\",\"Class\"])\n",
    "    id = np.array([idx for idx in range(5542)])\n",
    "    save_file[\"Id\"] = id\n",
    "    save_file[\"Class\"]= y_pred\n",
    "    save_file.to_csv(\"submission11.csv\",index=0)       "
   ]
  },
  {
   "cell_type": "markdown",
   "metadata": {},
   "source": [
    "#### Generate the submission.csv"
   ]
  },
  {
   "cell_type": "code",
   "execution_count": null,
   "metadata": {
    "collapsed": true
   },
   "outputs": [],
   "source": [
    "# code goes here"
   ]
  },
  {
   "cell_type": "code",
   "execution_count": null,
   "metadata": {
    "collapsed": true
   },
   "outputs": [],
   "source": [
    "pred_test_int = list(map(int, pred_val_experiment))"
   ]
  },
  {
   "cell_type": "code",
   "execution_count": null,
   "metadata": {
    "collapsed": true
   },
   "outputs": [],
   "source": [
    "submission(pred_test_int)"
   ]
  },
  {
   "cell_type": "code",
   "execution_count": null,
   "metadata": {
    "collapsed": true
   },
   "outputs": [],
   "source": []
  },
  {
   "cell_type": "code",
   "execution_count": null,
   "metadata": {
    "collapsed": true
   },
   "outputs": [],
   "source": [
    "# Trying different things to improve my score on the leaderboard\n",
    "# ************* Ignore ********************"
   ]
  },
  {
   "cell_type": "code",
   "execution_count": 164,
   "metadata": {},
   "outputs": [
    {
     "name": "stderr",
     "output_type": "stream",
     "text": [
      "/anaconda3/lib/python3.6/site-packages/ipykernel_launcher.py:36: RuntimeWarning: divide by zero encountered in log\n"
     ]
    }
   ],
   "source": [
    "LR = LogisticRegression(200, 0.1)\n",
    "theta_epoch_list_eve, epoch_value_list_eve, theta_loss_list_eve, acc_per_epoch_eve = LR.fit(eve_x, eve_y)"
   ]
  },
  {
   "cell_type": "code",
   "execution_count": 165,
   "metadata": {
    "collapsed": true
   },
   "outputs": [],
   "source": [
    "pred_bool_experiment = LR.predict(X_test)\n",
    "pred_val_experiment = pred_bool_experiment[0]"
   ]
  },
  {
   "cell_type": "code",
   "execution_count": null,
   "metadata": {
    "collapsed": true
   },
   "outputs": [],
   "source": [
    "# Till here\n",
    "# ************* Ignore ********************"
   ]
  },
  {
   "cell_type": "markdown",
   "metadata": {},
   "source": [
    "Best obtained accuracy on Public Leader-board = __%"
   ]
  },
  {
   "cell_type": "code",
   "execution_count": 131,
   "metadata": {
    "collapsed": true
   },
   "outputs": [],
   "source": [
    "# Best obtained accuracy on Public Leader-board = 0.89029"
   ]
  },
  {
   "cell_type": "markdown",
   "metadata": {
    "collapsed": true
   },
   "source": [
    "0.89029 -> my best score"
   ]
  }
 ],
 "metadata": {
  "kernelspec": {
   "display_name": "Python 3",
   "language": "python",
   "name": "python3"
  },
  "language_info": {
   "codemirror_mode": {
    "name": "ipython",
    "version": 3
   },
   "file_extension": ".py",
   "mimetype": "text/x-python",
   "name": "python",
   "nbconvert_exporter": "python",
   "pygments_lexer": "ipython3",
   "version": "3.6.3"
  }
 },
 "nbformat": 4,
 "nbformat_minor": 2
}
