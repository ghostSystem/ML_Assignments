{
 "cells": [
  {
   "cell_type": "markdown",
   "metadata": {},
   "source": [
    "# Training a ConvNet PyTorch\n",
    "\n",
    "In this notebook, you'll learn how to use the powerful PyTorch framework to specify a conv net architecture and train it on the human action recognition dataset. \n"
   ]
  },
  {
   "cell_type": "code",
   "execution_count": 28,
   "metadata": {
    "collapsed": true
   },
   "outputs": [],
   "source": [
    "import torch\n",
    "import torch.nn as nn\n",
    "import torch.optim as optim\n",
    "from torch.autograd import Variable\n",
    "from torch.utils.data import DataLoader,sampler,Dataset\n",
    "import torchvision.datasets as dset\n",
    "import torchvision.transforms as T\n",
    "import timeit\n",
    "from PIL import Image\n",
    "import os\n",
    "import numpy as np\n",
    "import scipy.io\n",
    "import pandas as pd"
   ]
  },
  {
   "cell_type": "markdown",
   "metadata": {},
   "source": [
    "## What's this PyTorch business?\n",
    "\n",
    "* When using a framework like PyTorch or TensorFlow you can harness the power of the GPU for your own custom neural network architectures without having to write CUDA code directly.\n",
    "* this notebook will walk you through much of what you need to do to train models using pytorch. if you want to learn more or need further clarification on topics that aren't fully explained here, here are 2 good Pytorch tutorials. 1): http://pytorch.org/tutorials/beginner/deep_learning_60min_blitz.html 2)http://pytorch.org/tutorials/beginner/pytorch_with_examples.html\n",
    "* It's not necessary to have a GPU for this homework, using a GPU can make your code run faster.\n"
   ]
  },
  {
   "cell_type": "markdown",
   "metadata": {},
   "source": [
    "## Load Datasets\n",
    "\n",
    "In this part, we will load the action recognition dataset for the neural network. In order to load data from our custom dataset, we need to write a custom Dataloader. If you put hw6_data.mat, /valClips,/trainClips,/testClips under the folder of ./data/ , you do not need to change anything in this part."
   ]
  },
  {
   "cell_type": "markdown",
   "metadata": {},
   "source": [
    "First, load the labels of the dataset, you should write your path of the hw6_data.mat file."
   ]
  },
  {
   "cell_type": "code",
   "execution_count": 6,
   "metadata": {},
   "outputs": [
    {
     "name": "stdout",
     "output_type": "stream",
     "text": [
      "7770\n",
      "2230\n"
     ]
    }
   ],
   "source": [
    "label_mat=scipy.io.loadmat('./data/hw6_data.mat')\n",
    "label_train=label_mat['trLb']\n",
    "print(len(label_train))\n",
    "label_val=label_mat['valLb']\n",
    "print(len(label_val))"
   ]
  },
  {
   "cell_type": "markdown",
   "metadata": {},
   "source": [
    "### Dataset class\n",
    "\n",
    "torch.utils.data.Dataset is an abstract class representing a dataset. The custom dataset should inherit Dataset and override the following methods:\n",
    "\n",
    "    __len__ so that len(dataset) returns the size of the dataset.\n",
    "    __getitem__ to support the indexing such that dataset[i] can be used to get ith sample\n",
    "\n",
    "Let’s create a dataset class for our action recognition dataset. We will read images in __getitem__. This is memory efficient because all the images are not stored in the memory at once but read as required.\n",
    "\n",
    "Sample of our dataset will be a dict {'image':image,'img_path':img_path,'Label':Label}. Our datset will take an optional argument transform so that any required processing can be applied on the sample. "
   ]
  },
  {
   "cell_type": "code",
   "execution_count": 7,
   "metadata": {
    "collapsed": true
   },
   "outputs": [],
   "source": [
    "\n",
    "class ActionDataset(Dataset):\n",
    "    \"\"\"Action dataset.\"\"\"\n",
    "\n",
    "    def __init__(self,  root_dir,labels=[], transform=None):\n",
    "        \"\"\"\n",
    "        Args:\n",
    "            root_dir (string): Directory with all the images.\n",
    "            labels(list): labels if images.\n",
    "            transform (callable, optional): Optional transform to be applied on a sample.\n",
    "        \"\"\"\n",
    "        self.root_dir = root_dir\n",
    "        self.transform = transform\n",
    "        self.length=len(os.listdir(self.root_dir))\n",
    "        self.labels=labels\n",
    "    def __len__(self):\n",
    "        return self.length*3\n",
    "\n",
    "    def __getitem__(self, idx):\n",
    "        \n",
    "        folder=int(idx/3)+1\n",
    "        imidx=idx%3+1\n",
    "        folder=format(folder,'05d')\n",
    "        imgname=str(imidx)+'.jpg'\n",
    "        img_path = os.path.join(self.root_dir,\n",
    "                                folder,imgname)\n",
    "        image = Image.open(img_path)\n",
    "        if len(self.labels)!=0:\n",
    "            Label=self.labels[int(idx/3)][0]-1\n",
    "        if self.transform:\n",
    "            image = self.transform(image)\n",
    "        if len(self.labels)!=0:\n",
    "            sample={'image':image,'img_path':img_path,'Label':Label}\n",
    "        else:\n",
    "            sample={'image':image,'img_path':img_path}\n",
    "        return sample\n",
    "  "
   ]
  },
  {
   "cell_type": "markdown",
   "metadata": {},
   "source": [
    "Iterating over the dataset by a for loop."
   ]
  },
  {
   "cell_type": "code",
   "execution_count": 8,
   "metadata": {},
   "outputs": [
    {
     "name": "stdout",
     "output_type": "stream",
     "text": [
      "torch.Size([3, 64, 64])\n",
      "0.0\n",
      "./data/trainClips/00001/1.jpg\n",
      "torch.Size([3, 64, 64])\n",
      "0.0\n",
      "./data/trainClips/00001/2.jpg\n",
      "torch.Size([3, 64, 64])\n",
      "0.0\n",
      "./data/trainClips/00001/3.jpg\n",
      "torch.Size([3, 64, 64])\n",
      "0.0\n",
      "./data/trainClips/00002/1.jpg\n",
      "torch.Size([3, 64, 64])\n",
      "0.0\n",
      "./data/trainClips/00002/2.jpg\n",
      "torch.Size([3, 64, 64])\n",
      "0.0\n",
      "./data/trainClips/00002/3.jpg\n",
      "torch.Size([3, 64, 64])\n",
      "0.0\n",
      "./data/trainClips/00003/1.jpg\n",
      "torch.Size([3, 64, 64])\n",
      "0.0\n",
      "./data/trainClips/00003/2.jpg\n",
      "torch.Size([3, 64, 64])\n",
      "0.0\n",
      "./data/trainClips/00003/3.jpg\n",
      "torch.Size([3, 64, 64])\n",
      "0.0\n",
      "./data/trainClips/00004/1.jpg\n"
     ]
    }
   ],
   "source": [
    "image_dataset=ActionDataset(root_dir='./data/trainClips/',\\\n",
    "                            labels=label_train,transform=T.ToTensor())\n",
    "\n",
    "#iterating though the dataset\n",
    "for i in range(10):\n",
    "    sample=image_dataset[i]\n",
    "    print(sample['image'].shape)\n",
    "    print(sample['Label'])\n",
    "    print(sample['img_path'])\n",
    "     \n",
    "   "
   ]
  },
  {
   "cell_type": "markdown",
   "metadata": {},
   "source": [
    "We can iterate over the created dataset with a 'for' loop as before. However, we are losing a lot of features by using a simple for loop to iterate over the data. In particular, we are missing out on:\n",
    "\n",
    "* Batching the data\n",
    "* Shuffling the data\n",
    "* Load the data in parallel using multiprocessing workers.\n",
    "\n",
    "torch.utils.data.DataLoader is an iterator which provides all these features. "
   ]
  },
  {
   "cell_type": "code",
   "execution_count": 9,
   "metadata": {},
   "outputs": [
    {
     "name": "stdout",
     "output_type": "stream",
     "text": [
      "0 torch.Size([4, 3, 64, 64]) ['./data/trainClips/06756/1.jpg', './data/trainClips/04659/3.jpg', './data/trainClips/02782/2.jpg', './data/trainClips/01082/2.jpg'] tensor([8., 5., 3., 1.], dtype=torch.float64)\n",
      "1 torch.Size([4, 3, 64, 64]) ['./data/trainClips/00581/3.jpg', './data/trainClips/04135/3.jpg', './data/trainClips/00339/3.jpg', './data/trainClips/05987/2.jpg'] tensor([0., 4., 0., 7.], dtype=torch.float64)\n",
      "2 torch.Size([4, 3, 64, 64]) ['./data/trainClips/03090/1.jpg', './data/trainClips/03699/2.jpg', './data/trainClips/05856/3.jpg', './data/trainClips/07200/3.jpg'] tensor([3., 4., 7., 9.], dtype=torch.float64)\n",
      "3 torch.Size([4, 3, 64, 64]) ['./data/trainClips/06008/3.jpg', './data/trainClips/03333/2.jpg', './data/trainClips/00434/3.jpg', './data/trainClips/04887/3.jpg'] tensor([7., 3., 0., 5.], dtype=torch.float64)\n",
      "4 torch.Size([4, 3, 64, 64]) ['./data/trainClips/02732/1.jpg', './data/trainClips/04240/2.jpg', './data/trainClips/06602/1.jpg', './data/trainClips/03593/3.jpg'] tensor([3., 5., 8., 4.], dtype=torch.float64)\n",
      "5 torch.Size([4, 3, 64, 64]) ['./data/trainClips/06591/1.jpg', './data/trainClips/03707/1.jpg', './data/trainClips/05394/1.jpg', './data/trainClips/02884/1.jpg'] tensor([8., 4., 6., 3.], dtype=torch.float64)\n",
      "6 torch.Size([4, 3, 64, 64]) ['./data/trainClips/03657/3.jpg', './data/trainClips/07062/1.jpg', './data/trainClips/06865/1.jpg', './data/trainClips/06757/1.jpg'] tensor([4., 8., 8., 8.], dtype=torch.float64)\n",
      "7 torch.Size([4, 3, 64, 64]) ['./data/trainClips/03528/3.jpg', './data/trainClips/02154/3.jpg', './data/trainClips/03510/1.jpg', './data/trainClips/06979/2.jpg'] tensor([4., 2., 3., 8.], dtype=torch.float64)\n",
      "8 torch.Size([4, 3, 64, 64]) ['./data/trainClips/03017/2.jpg', './data/trainClips/06052/2.jpg', './data/trainClips/04143/3.jpg', './data/trainClips/05269/2.jpg'] tensor([3., 7., 4., 6.], dtype=torch.float64)\n",
      "9 torch.Size([4, 3, 64, 64]) ['./data/trainClips/04886/1.jpg', './data/trainClips/00333/2.jpg', './data/trainClips/05188/3.jpg', './data/trainClips/07588/1.jpg'] tensor([5., 0., 6., 9.], dtype=torch.float64)\n",
      "10 torch.Size([4, 3, 64, 64]) ['./data/trainClips/05353/3.jpg', './data/trainClips/06347/3.jpg', './data/trainClips/01962/1.jpg', './data/trainClips/02724/2.jpg'] tensor([6., 7., 2., 3.], dtype=torch.float64)\n",
      "11 torch.Size([4, 3, 64, 64]) ['./data/trainClips/04386/3.jpg', './data/trainClips/00730/3.jpg', './data/trainClips/01950/3.jpg', './data/trainClips/04635/3.jpg'] tensor([5., 0., 2., 5.], dtype=torch.float64)\n",
      "12 torch.Size([4, 3, 64, 64]) ['./data/trainClips/02866/1.jpg', './data/trainClips/07730/2.jpg', './data/trainClips/02057/2.jpg', './data/trainClips/06088/1.jpg'] tensor([3., 9., 2., 7.], dtype=torch.float64)\n",
      "13 torch.Size([4, 3, 64, 64]) ['./data/trainClips/06711/2.jpg', './data/trainClips/07405/1.jpg', './data/trainClips/01696/3.jpg', './data/trainClips/05313/2.jpg'] tensor([8., 9., 1., 6.], dtype=torch.float64)\n",
      "14 torch.Size([4, 3, 64, 64]) ['./data/trainClips/06528/1.jpg', './data/trainClips/03950/1.jpg', './data/trainClips/02536/1.jpg', './data/trainClips/02695/1.jpg'] tensor([8., 4., 2., 3.], dtype=torch.float64)\n",
      "15 torch.Size([4, 3, 64, 64]) ['./data/trainClips/04874/1.jpg', './data/trainClips/02184/3.jpg', './data/trainClips/06287/1.jpg', './data/trainClips/03171/1.jpg'] tensor([5., 2., 7., 3.], dtype=torch.float64)\n",
      "16 torch.Size([4, 3, 64, 64]) ['./data/trainClips/07142/3.jpg', './data/trainClips/07401/1.jpg', './data/trainClips/03915/2.jpg', './data/trainClips/06050/2.jpg'] tensor([9., 9., 4., 7.], dtype=torch.float64)\n",
      "17 torch.Size([4, 3, 64, 64]) ['./data/trainClips/00432/2.jpg', './data/trainClips/02463/2.jpg', './data/trainClips/00136/2.jpg', './data/trainClips/01041/3.jpg'] tensor([0., 2., 0., 1.], dtype=torch.float64)\n",
      "18 torch.Size([4, 3, 64, 64]) ['./data/trainClips/06149/1.jpg', './data/trainClips/02714/2.jpg', './data/trainClips/00972/2.jpg', './data/trainClips/05937/1.jpg'] tensor([7., 3., 1., 7.], dtype=torch.float64)\n",
      "19 torch.Size([4, 3, 64, 64]) ['./data/trainClips/02993/1.jpg', './data/trainClips/06219/3.jpg', './data/trainClips/02538/2.jpg', './data/trainClips/01972/1.jpg'] tensor([3., 7., 2., 2.], dtype=torch.float64)\n",
      "20 torch.Size([4, 3, 64, 64]) ['./data/trainClips/01090/3.jpg', './data/trainClips/06018/3.jpg', './data/trainClips/03473/1.jpg', './data/trainClips/02905/2.jpg'] tensor([1., 7., 3., 3.], dtype=torch.float64)\n",
      "21 torch.Size([4, 3, 64, 64]) ['./data/trainClips/04258/3.jpg', './data/trainClips/05012/1.jpg', './data/trainClips/06204/2.jpg', './data/trainClips/04608/1.jpg'] tensor([5., 6., 7., 5.], dtype=torch.float64)\n"
     ]
    }
   ],
   "source": [
    "image_dataloader = DataLoader(image_dataset, batch_size=4,\n",
    "                        shuffle=True, num_workers=4)\n",
    "\n",
    "\n",
    "for i,sample in enumerate(image_dataloader):\n",
    "    sample['image']=sample['image']\n",
    "    print(i,sample['image'].shape,sample['img_path'],sample['Label'])\n",
    "    if i>20: \n",
    "        break"
   ]
  },
  {
   "cell_type": "markdown",
   "metadata": {},
   "source": [
    "Dataloaders for the training, validationg and testing set. "
   ]
  },
  {
   "cell_type": "code",
   "execution_count": 10,
   "metadata": {
    "collapsed": true
   },
   "outputs": [],
   "source": [
    "image_dataset_train=ActionDataset(root_dir='./data/trainClips/',labels=label_train,transform=T.ToTensor())\n",
    "\n",
    "image_dataloader_train = DataLoader(image_dataset_train, batch_size=32,\n",
    "                        shuffle=True, num_workers=4)\n",
    "image_dataset_val=ActionDataset(root_dir='./data/valClips/',labels=label_val,transform=T.ToTensor())\n",
    "\n",
    "image_dataloader_val = DataLoader(image_dataset_val, batch_size=32,\n",
    "                        shuffle=False, num_workers=4)\n",
    "image_dataset_test=ActionDataset(root_dir='./data/testClips/',labels=[],transform=T.ToTensor())\n",
    "\n",
    "image_dataloader_test = DataLoader(image_dataset_test, batch_size=32,\n",
    "                        shuffle=False, num_workers=4)"
   ]
  },
  {
   "cell_type": "code",
   "execution_count": 11,
   "metadata": {
    "collapsed": true
   },
   "outputs": [],
   "source": [
    "dtype = torch.FloatTensor # the CPU datatype\n",
    "# Constant to control how frequently we print train loss\n",
    "print_every = 100\n",
    "# This is a little utility that we'll use to reset the model\n",
    "# if we want to re-initialize all our parameters\n",
    "def reset(m):\n",
    "    if hasattr(m, 'reset_parameters'):\n",
    "        m.reset_parameters()"
   ]
  },
  {
   "cell_type": "markdown",
   "metadata": {},
   "source": [
    "## Example Model\n",
    "\n",
    "### Some assorted tidbits\n",
    "\n",
    "Let's start by looking at a simple model. First, note that PyTorch operates on Tensors, which are n-dimensional arrays functionally analogous to numpy's ndarrays, with the additional feature that they can be used for computations on GPUs.\n",
    "\n",
    "We'll provide you with a Flatten function, which we explain here. Remember that our image data (and more relevantly, our intermediate feature maps) are initially N x C x H x W, where:\n",
    "* N is the number of datapoints\n",
    "* C is the number of image channels. \n",
    "* H is the height of the intermediate feature map in pixels\n",
    "* W is the height of the intermediate feature map in pixels\n",
    "\n",
    "This is the right way to represent the data when we are doing something like a 2D convolution, that needs spatial understanding of where the intermediate features are relative to each other. When we input  data into fully connected affine layers, however, we want each datapoint to be represented by a single vector -- it's no longer useful to segregate the different channels, rows, and columns of the data. So, we use a \"Flatten\" operation to collapse the C x H x W values per representation into a single long vector. The Flatten function below first reads in the N, C, H, and W values from a given batch of data, and then returns a \"view\" of that data. \"View\" is analogous to numpy's \"reshape\" method: it reshapes x's dimensions to be N x ??, where ?? is allowed to be anything (in this case, it will be C x H x W, but we don't need to specify that explicitly). "
   ]
  },
  {
   "cell_type": "code",
   "execution_count": 8,
   "metadata": {
    "collapsed": true
   },
   "outputs": [],
   "source": [
    "class Flatten(nn.Module):\n",
    "    def forward(self, x):\n",
    "        N, C, H, W = x.size() # read in N, C, H, W\n",
    "        return x.view(N, -1)  # \"flatten\" the C * H * W values into a single vector per image"
   ]
  },
  {
   "cell_type": "markdown",
   "metadata": {},
   "source": [
    "### The example model itself\n",
    "\n",
    "The first step to training your own model is defining its architecture.\n",
    "\n",
    "Here's an example of a convolutional neural network defined in PyTorch -- try to understand what each line is doing, remembering that each layer is composed upon the previous layer. We haven't trained anything yet - that'll come next - for now, we want you to understand how everything gets set up.  nn.Sequential is a container which applies each layer\n",
    "one after the other.\n",
    "\n",
    "In this example, you see 2D convolutional layers (Conv2d), ReLU activations, and fully-connected layers (Linear). You also see the Cross-Entropy loss function, and the Adam optimizer being used. \n",
    "\n",
    "Make sure you understand why the parameters of the Linear layer are 10092 and 10.\n"
   ]
  },
  {
   "cell_type": "code",
   "execution_count": 9,
   "metadata": {
    "collapsed": true
   },
   "outputs": [],
   "source": [
    "# Here's where we define the architecture of the model... \n",
    "simple_model = nn.Sequential(\n",
    "                nn.Conv2d(3, 32, kernel_size=7, stride=2),\n",
    "                nn.ReLU(inplace=True),\n",
    "                Flatten(), # see above for explanation\n",
    "                nn.Linear(26912, 10), # affine layer\n",
    "              )\n",
    "\n",
    "# Set the type of all data in this model to be FloatTensor \n",
    "simple_model.type(dtype)\n",
    "\n",
    "loss_fn = nn.CrossEntropyLoss().type(dtype)\n",
    "optimizer = optim.Adam(simple_model.parameters(), lr=1e-2) # lr sets the learning rate of the optimizer"
   ]
  },
  {
   "cell_type": "markdown",
   "metadata": {},
   "source": [
    "PyTorch supports many other layer types, loss functions, and optimizers - you will experiment with these next. Here's the official API documentation for these (if any of the parameters used above were unclear, this resource will also be helpful). \n",
    "\n",
    "* Layers: http://pytorch.org/docs/nn.html\n",
    "* Activations: http://pytorch.org/docs/nn.html#non-linear-activations\n",
    "* Loss functions: http://pytorch.org/docs/nn.html#loss-functions\n",
    "* Optimizers: http://pytorch.org/docs/optim.html#algorithms"
   ]
  },
  {
   "cell_type": "markdown",
   "metadata": {},
   "source": [
    "## Training a specific model\n",
    "\n",
    "In this section, we're going to specify a model for you to construct. The goal here isn't to get good performance (that'll be next), but instead to get comfortable with understanding the PyTorch documentation and configuring your own model. \n",
    "\n",
    "Using the code provided above as guidance, and using the following PyTorch documentation, specify a model with the following architecture:\n",
    "\n",
    "* 7x7 Convolutional Layer with 8 filters and stride of 1\n",
    "* ReLU Activation Layer\n",
    "* 2x2 Max Pooling layer with a stride of 2\n",
    "* 7x7 Convolutional Layer with 16 filters and stride of 1\n",
    "* ReLU Activation Layer\n",
    "* 2x2 Max Pooling layer with a stride of 2\n",
    "* Flatten the feature map\n",
    "* ReLU Activation Layer\n",
    "* Affine layer to map input units to 10 outputs, you need to figure out the input size here.\n"
   ]
  },
  {
   "cell_type": "code",
   "execution_count": 10,
   "metadata": {
    "collapsed": true
   },
   "outputs": [],
   "source": [
    "fixed_model_base = nn.Sequential( \n",
    "    #########1st TODO  (10 points)###################\n",
    "    nn.Conv2d(3, 8, kernel_size=7, stride=1),\n",
    "    nn.ReLU(inplace=True),\n",
    "    nn.MaxPool2d(2, stride=2),\n",
    "    nn.Conv2d(8, 16, kernel_size=7, stride=1),\n",
    "    nn.ReLU(inplace=True),\n",
    "    nn.MaxPool2d(2, stride=2),\n",
    "    Flatten(),\n",
    "    nn.ReLU(inplace=True),\n",
    "    nn.Linear(1936, 10)\n",
    "    \n",
    "    ####################################\n",
    "            )\n",
    "fixed_model = fixed_model_base.type(dtype)\n"
   ]
  },
  {
   "cell_type": "markdown",
   "metadata": {},
   "source": [
    "To make sure you're doing the right thing, use the following tool to check the dimensionality of your output (it should be 32 x 10, since our batches have size 32 and the output of the final affine layer should be 10, corresponding to our 10 classes):"
   ]
  },
  {
   "cell_type": "code",
   "execution_count": 11,
   "metadata": {},
   "outputs": [
    {
     "name": "stdout",
     "output_type": "stream",
     "text": [
      "[32 10]\n"
     ]
    },
    {
     "data": {
      "text/plain": [
       "True"
      ]
     },
     "execution_count": 11,
     "metadata": {},
     "output_type": "execute_result"
    }
   ],
   "source": [
    "## Now we're going to feed a random batch into the model you defined and make sure the output is the right size\n",
    "x = torch.randn(32, 3, 64, 64).type(dtype)\n",
    "x_var = Variable(x.type(dtype)) # Construct a PyTorch Variable out of your input data\n",
    "ans = fixed_model(x_var)        # Feed it through the model! \n",
    "\n",
    "# Check to make sure what comes out of your model\n",
    "# is the right dimensionality... this should be True\n",
    "# if you've done everything correctly\n",
    "print(np.array(ans.size()))\n",
    "np.array_equal(np.array(ans.size()), np.array([32, 10]))   \n"
   ]
  },
  {
   "cell_type": "markdown",
   "metadata": {},
   "source": [
    "### Train the model.\n",
    "\n",
    "Now that you've seen how to define a model and do a single forward pass of some data through it, let's  walk through how you'd actually train one whole epoch over your training data (using the fixed_model_base we provided above).\n",
    "\n",
    "Make sure you understand how each PyTorch function used below corresponds to what you implemented in your custom neural network implementation.\n",
    "\n",
    "Note that because we are not resetting the weights anywhere below, if you run the cell multiple times, you are effectively training multiple epochs (so your performance should improve).\n",
    "\n",
    "First, set up an RMSprop optimizer (using a 1e-4 learning rate) and a cross-entropy loss function:"
   ]
  },
  {
   "cell_type": "code",
   "execution_count": 12,
   "metadata": {
    "collapsed": true
   },
   "outputs": [],
   "source": [
    "################ 2nd TODO  (5 points)##################\n",
    "optimizer = torch.optim.RMSprop(fixed_model_base.parameters(), lr=0.0001, alpha=0.99, eps=1e-08, weight_decay=0, momentum=0, centered=False)\n",
    "loss_fn = nn.CrossEntropyLoss()\n"
   ]
  },
  {
   "cell_type": "code",
   "execution_count": 13,
   "metadata": {},
   "outputs": [
    {
     "name": "stderr",
     "output_type": "stream",
     "text": [
      "/anaconda3/lib/python3.6/site-packages/ipykernel_launcher.py:20: UserWarning: invalid index of a 0-dim tensor. This will be an error in PyTorch 0.5. Use tensor.item() to convert a 0-dim tensor to a Python number\n"
     ]
    },
    {
     "name": "stdout",
     "output_type": "stream",
     "text": [
      "t = 100, loss = 2.1329\n",
      "t = 200, loss = 1.8056\n",
      "t = 300, loss = 1.3633\n",
      "t = 400, loss = 1.3438\n",
      "t = 500, loss = 1.3951\n",
      "t = 600, loss = 1.2720\n",
      "t = 700, loss = 1.1728\n"
     ]
    }
   ],
   "source": [
    "# This sets the model in \"training\" mode. \n",
    "# This is relevant for some layers that may have different behavior\n",
    "# in training mode vs testing mode, such as Dropout and BatchNorm. \n",
    "fixed_model.train()\n",
    "\n",
    "# Load one batch at a time.\n",
    "for t, sample in enumerate(image_dataloader_train):\n",
    "    x_var = Variable(sample['image'])\n",
    "    #print(type(x_var.data))\n",
    "    #print(x_var.shape)\n",
    "    y_var = Variable(sample['Label']).long()\n",
    "\n",
    "    # This is the forward pass: predict the scores for each class, for each x in the batch.\n",
    "    scores = fixed_model(x_var)\n",
    "    \n",
    "    # Use the correct y values and the predicted y values to compute the loss.\n",
    "    loss = loss_fn(scores, y_var)\n",
    "    \n",
    "    if (t + 1) % print_every == 0:\n",
    "        print('t = %d, loss = %.4f' % (t + 1, loss.data[0]))\n",
    "\n",
    "    # Zero out all of the gradients for the variables which the optimizer will update.\n",
    "    optimizer.zero_grad()\n",
    "    \n",
    "    # This is the backwards pass: compute the gradient of the loss with respect to each \n",
    "    # parameter of the model.\n",
    "    loss.backward()\n",
    "    \n",
    "    # Actually update the parameters of the model using the gradients computed by the backwards pass.\n",
    "    optimizer.step()\n",
    "   "
   ]
  },
  {
   "cell_type": "markdown",
   "metadata": {},
   "source": [
    "Now you've seen how the training process works in PyTorch. To save you writing boilerplate code, we're providing the following helper functions to help you train for multiple epochs and check the accuracy of your model:"
   ]
  },
  {
   "cell_type": "code",
   "execution_count": 12,
   "metadata": {
    "collapsed": true
   },
   "outputs": [],
   "source": [
    "def train(model, loss_fn, optimizer, dataloader, num_epochs = 1):\n",
    "    for epoch in range(num_epochs):\n",
    "        print('Starting epoch %d / %d' % (epoch + 1, num_epochs))\n",
    "        model.train()\n",
    "        for t, sample in enumerate(dataloader):\n",
    "            x_var = Variable(sample['image'])\n",
    "            y_var = Variable(sample['Label'].long())\n",
    "\n",
    "            scores = model(x_var)\n",
    "            \n",
    "            loss = loss_fn(scores, y_var)\n",
    "            if (t + 1) % print_every == 0:\n",
    "                print('t = %d, loss = %.4f' % (t + 1, loss.data[0]))\n",
    "\n",
    "            optimizer.zero_grad()\n",
    "            loss.backward()\n",
    "            optimizer.step()\n",
    "\n",
    "def check_accuracy(model, loader):\n",
    "    '''\n",
    "    if loader.dataset.train:\n",
    "        print('Checking accuracy on validation set')\n",
    "    else:\n",
    "        print('Checking accuracy on test set')  \n",
    "    '''\n",
    "    num_correct = 0\n",
    "    num_samples = 0\n",
    "    model.eval() # Put the model in test mode (the opposite of model.train(), essentially)\n",
    "    for t, sample in enumerate(loader):\n",
    "        x_var = Variable(sample['image'])\n",
    "        y_var = sample['Label']\n",
    "        #y_var=y_var.cpu()\n",
    "        scores = model(x_var)\n",
    "        _, preds = scores.data.max(1)#scores.data.cpu().max(1)\n",
    "        #print(preds)\n",
    "        #print(y_var)\n",
    "        num_correct += (preds.numpy() == y_var.numpy()).sum()\n",
    "        num_samples += preds.size(0)\n",
    "    acc = float(num_correct) / num_samples\n",
    "    print('Got %d / %d correct (%.2f)' % (num_correct, num_samples, 100 * acc))\n",
    "    \n",
    "    \n",
    "\n"
   ]
  },
  {
   "cell_type": "markdown",
   "metadata": {},
   "source": [
    "### Check the accuracy of the model.\n",
    "\n",
    "Let's see the train and check_accuracy code in action -- feel free to use these methods when evaluating the models you develop below.\n",
    "\n",
    "You should get a training loss of around 1.0-1.2, and a validation accuracy of around 50-60%. As mentioned above, if you re-run the cells, you'll be training more epochs, so your performance will improve past these numbers.\n",
    "\n",
    "But don't worry about getting these numbers better -- this was just practice before you tackle designing your own model."
   ]
  },
  {
   "cell_type": "code",
   "execution_count": 15,
   "metadata": {},
   "outputs": [
    {
     "name": "stdout",
     "output_type": "stream",
     "text": [
      "Starting epoch 1 / 1\n"
     ]
    },
    {
     "name": "stderr",
     "output_type": "stream",
     "text": [
      "/anaconda3/lib/python3.6/site-packages/ipykernel_launcher.py:13: UserWarning: invalid index of a 0-dim tensor. This will be an error in PyTorch 0.5. Use tensor.item() to convert a 0-dim tensor to a Python number\n",
      "  del sys.path[0]\n"
     ]
    },
    {
     "name": "stdout",
     "output_type": "stream",
     "text": [
      "t = 100, loss = 2.2779\n",
      "t = 200, loss = 2.2022\n",
      "t = 300, loss = 2.0407\n",
      "t = 400, loss = 1.8165\n",
      "t = 500, loss = 1.7125\n",
      "t = 600, loss = 1.5291\n",
      "t = 700, loss = 1.5152\n",
      "Got 12040 / 23310 correct (51.65)\n"
     ]
    }
   ],
   "source": [
    "torch.random.manual_seed(12345)\n",
    "fixed_model.cpu()\n",
    "fixed_model.apply(reset) \n",
    "fixed_model.train() \n",
    "train(fixed_model, loss_fn, optimizer,image_dataloader_train, num_epochs=1) \n",
    "check_accuracy(fixed_model, image_dataloader_train)# check accuracy on the training set\n"
   ]
  },
  {
   "cell_type": "markdown",
   "metadata": {},
   "source": [
    "### Don't forget the validation set!\n",
    "\n",
    "And note that you can use the check_accuracy function to evaluate on the validation set, by passing **image_dataloader_val** as the second argument to check_accuracy. The accuracy on validation set is arround 40-50%."
   ]
  },
  {
   "cell_type": "code",
   "execution_count": 16,
   "metadata": {},
   "outputs": [
    {
     "name": "stdout",
     "output_type": "stream",
     "text": [
      "Got 3033 / 6690 correct (45.34)\n"
     ]
    }
   ],
   "source": [
    "check_accuracy(fixed_model, image_dataloader_val)#check accuracy on the validation set"
   ]
  },
  {
   "cell_type": "markdown",
   "metadata": {},
   "source": [
    "##### Train a better  model for action recognition!\n",
    "\n",
    "Now it's your job to experiment with architectures, hyperparameters, loss functions, and optimizers to train a model that achieves better accuracy on the action recognition **validation** set. You can use the check_accuracy and train functions from above."
   ]
  },
  {
   "cell_type": "markdown",
   "metadata": {},
   "source": [
    "### Things you should try:\n",
    "- **Filter size**: Above we used 7x7; this makes pretty pictures but smaller filters may be more efficient\n",
    "- **Number of filters**: Do more or fewer do better?\n",
    "- **Pooling vs Strided Convolution**: Do you use max pooling or just stride convolutions?\n",
    "- **Batch normalization**: Try adding spatial batch normalization after convolution layers and vanilla batch normalization after affine layers. Do your networks train faster?\n",
    "- **Network architecture**: The network above has two layers of trainable parameters. Can you do better with a deep network? Good architectures to try include:\n",
    "    - [conv-relu-pool]xN -> [affine]xM -> [softmax or SVM]\n",
    "    - [conv-relu-conv-relu-pool]xN -> [affine]xM -> [softmax or SVM]\n",
    "    - [batchnorm-relu-conv]xN -> [affine]xM -> [softmax or SVM]\n",
    "- **Global Average Pooling**: Instead of flattening and then having multiple affine layers, perform convolutions until your image gets small (7x7 or so) and then perform an average pooling operation to get to a 1x1 image picture (1, 1 , Filter#), which is then reshaped into a (Filter#) vector. This is used in [Google's Inception Network](https://arxiv.org/abs/1512.00567) (See Table 1 for their architecture).\n",
    "- **Regularization**: Add l2 weight regularization, or perhaps use Dropout.\n",
    "\n",
    "### Tips for training\n",
    "For each network architecture that you try, you should tune the learning rate and regularization strength. When doing this there are a couple important things to keep in mind:\n",
    "\n",
    "- If the parameters are working well, you should see improvement within a few hundred iterations\n",
    "- Remember the coarse-to-fine approach for hyperparameter tuning: start by testing a large range of hyperparameters for just a few training iterations to find the combinations of parameters that are working at all.\n",
    "- Once you have found some sets of parameters that seem to work, search more finely around these parameters. You may need to train for more epochs.\n",
    "- You should use the validation set for hyperparameter search, and save your test set for evaluating your architecture on the best parameters as selected by the validation set.\n",
    "\n",
    "### Going above and beyond\n",
    "If you are feeling adventurous there are many other features you can implement to try and improve your performance. You are **not required** to implement any of these; however they would be good things to try.\n",
    "\n",
    "- Alternative update steps: For the assignment we implemented SGD+momentum, RMSprop, and Adam; you could try alternatives like AdaGrad or AdaDelta.\n",
    "- Alternative activation functions such as leaky ReLU, parametric ReLU, ELU, or MaxOut.\n",
    "- Model ensembles\n",
    "- Data augmentation\n",
    "- New Architectures\n",
    "  - [ResNets](https://arxiv.org/abs/1512.03385) where the input from the previous layer is added to the output.\n",
    "  - [DenseNets](https://arxiv.org/abs/1608.06993) where inputs into previous layers are concatenated together.\n",
    "  - [This blog has an in-depth overview](https://chatbotslife.com/resnets-highwaynets-and-densenets-oh-my-9bb15918ee32)\n",
    "\n",
    "If you do decide to implement something extra, clearly describe it in the \"Extra Credit Description\" cell below.\n",
    "\n",
    "### What we expect\n",
    "At the very least, you should be able to train a ConvNet that gets at least 55% accuracy on the validation set. This is just a lower bound - if you are careful it should be possible to get accuracies much higher than that! Extra credit points will be awarded for particularly high-scoring models or unique approaches.\n",
    "\n",
    "You should use the space below to experiment and train your network. \n",
    "\n"
   ]
  },
  {
   "cell_type": "code",
   "execution_count": 45,
   "metadata": {
    "collapsed": true
   },
   "outputs": [],
   "source": [
    "###########3rd TODO (20 points, must submit the results to Kaggle) ##############\n",
    "# Train your model here, and make sure the output of this cell is the accuracy of your best model on the \n",
    "# train, val, and test sets. Here's some code to get you started. The output of this cell should be the training\n",
    "# and validation accuracy on your best model (measured by validation accuracy).\n",
    "\n",
    "\n",
    "# Final Model\n",
    "model = nn.Sequential( \n",
    "                nn.Conv2d(3, 300, kernel_size=10, stride=2),\n",
    "                nn.ReLU(inplace=True),\n",
    "                nn.MaxPool2d(3, stride = 2),\n",
    "                nn.BatchNorm2d(300),\n",
    "                nn.Dropout2d(0.2),\n",
    "    \n",
    "                nn.Conv2d(300, 200, kernel_size=5, stride=1),\n",
    "                nn.ReLU(inplace=True),\n",
    "                nn.MaxPool2d(3, stride = 1),\n",
    "                nn.BatchNorm2d(200),\n",
    "                nn.Dropout2d(0.2),\n",
    "    \n",
    "                nn.Conv2d(200, 100, kernel_size=3, stride=1),\n",
    "                nn.ReLU(inplace=True),\n",
    "                nn.MaxPool2d(2, stride=1),\n",
    "                nn.BatchNorm2d(100),\n",
    "                nn.Dropout2d(0.2),\n",
    "    \n",
    "                nn.Conv2d(100, 50, kernel_size=2, stride=1),\n",
    "                nn.ReLU(inplace=True),\n",
    "                nn.MaxPool2d(2, stride=1),\n",
    "                nn.BatchNorm2d(50),\n",
    "    \n",
    "                Flatten(),\n",
    "    \n",
    "                nn.Linear(200, 100),\n",
    "                nn.Linear(100, 50),\n",
    "                nn.Linear(50, 10),\n",
    "    \n",
    "                nn.LogSoftmax()\n",
    ")\n",
    "\n",
    "# model = nn.Sequential(\n",
    "#     nn.Conv2d(3, 300, kernel_size=10, stride=3),\n",
    "#     nn.ReLU(inplace=True),\n",
    "#     nn.MaxPool2d(3, stride = 1),\n",
    "#     nn.BatchNorm2d(300, eps=1e-05, momentum=0.1, affine=True),\n",
    "#     nn.L1Loss(size_average=True, reduce=True),\n",
    "    \n",
    "#     nn.Conv2d(300, 200, kernel_size=6, stride=2),\n",
    "#     nn.ReLU(inplace=True),\n",
    "#     nn.MaxPool2d(3, stride = 1),\n",
    "#     nn.BatchNorm2d(200, eps=1e-05, momentum=0.1, affine=True),\n",
    "#     nn.L1Loss(size_average=True, reduce=True),\n",
    "    \n",
    "#     nn.Conv2d(200, 100, kernel_size=3, stride=1),\n",
    "#     nn.ReLU(inplace=True),\n",
    "#     nn.MaxPool2d(2, stride = 1),\n",
    "#     nn.BatchNorm2d(100, eps=1e-05, momentum=0.1, affine=True),\n",
    "#     #nn.L1Loss(size_average=True, reduce=True),\n",
    "    \n",
    "#     Flatten(),\n",
    "    \n",
    "#     nn.Linear(1600, 800),\n",
    "#     nn.Linear(800, 400),\n",
    "#     nn.Linear(400, 10),\n",
    "#     nn.LogSoftmax()\n",
    "    \n",
    "# )\n",
    "\n",
    "# model = nn.Sequential( \n",
    "#                 nn.Conv2d(3, 150, kernel_size=8, stride=2),\n",
    "#                 nn.ReLU(inplace=True),\n",
    "#                 nn.MaxPool2d(3, stride = 2),\n",
    "#                 nn.BatchNorm2d(150),\n",
    "#                 nn.Dropout2d(0.1),\n",
    "#                 nn.Conv2d(150, 100, kernel_size=5, stride=2),\n",
    "#                 nn.ReLU(inplace=True),\n",
    "#                 nn.MaxPool2d(2, stride = 1),\n",
    "#                 nn.BatchNorm2d(100),\n",
    "#                 nn.Dropout2d(0.2),\n",
    "#                 nn.Conv2d(100, 50, kernel_size=2, stride=1),\n",
    "#                 nn.ReLU(inplace=True),\n",
    "#                 nn.MaxPool2d(2, stride=1),\n",
    "#                 nn.BatchNorm2d(50),\n",
    "#                 Flatten(),\n",
    "#                 nn.Linear(200, 100),\n",
    "#                 nn.Linear(100, 50),\n",
    "#                 nn.Linear(50, 10),\n",
    "#                 nn.LogSoftmax()\n",
    "# )\n",
    "\n",
    "# model = nn.Sequential(\n",
    "#     nn.Conv2d(3, 100, kernel_size=7, stride=1),\n",
    "#     nn.ReLU(inplace=True),\n",
    "#     nn.MaxPool2d(2, stride = 2),\n",
    "#     nn.BatchNorm2d(100, eps=1e-05, momentum=0.1, affine=True),\n",
    "#     nn.L1Loss(size_average=True, reduce=True),\n",
    "\n",
    "#     nn.Conv2d(100, 75, kernel_size=6, stride=1),\n",
    "#     nn.ReLU(inplace=True),\n",
    "#     nn.MaxPool2d(2, stride = 2),\n",
    "#     nn.BatchNorm2d(75, eps=1e-05, momentum=0.1, affine=True),\n",
    "#     nn.L1Loss(size_average=True, reduce=True),\n",
    "\n",
    "#     nn.Conv2d(75, 50, kernel_size=5, stride=1),\n",
    "#     nn.ReLU(inplace=True),\n",
    "#     nn.MaxPool2d(2, stride = 1),\n",
    "#     nn.BatchNorm2d(50, eps=1e-05, momentum=0.1, affine=True),\n",
    "#     nn.L1Loss(size_average=True, reduce=True),\n",
    "\n",
    "#     Flatten(),\n",
    "#     nn.ReLU(inplace=True),\n",
    "\n",
    "#     nn.Linear(800, 10),\n",
    "#     nn.LogSoftmax() \n",
    "    \n",
    "# )\n",
    "\n",
    "# model = nn.Sequential(\n",
    "#     nn.Conv2d(3, 300, kernel_size=5, stride=2),\n",
    "#     nn.ReLU(inplace=True),\n",
    "#     nn.MaxPool2d(3, stride = 1),\n",
    "#     nn.BatchNorm2d(300, eps=1e-05, momentum=0.1, affine=True),\n",
    "#     nn.L1Loss(size_average=True, reduce=True),\n",
    "    \n",
    "#     nn.Conv2d(300, 225, kernel_size=4, stride=2),\n",
    "#     nn.ReLU(inplace=True),\n",
    "#     nn.MaxPool2d(3, stride = 1),\n",
    "#     nn.BatchNorm2d(225, eps=1e-05, momentum=0.1, affine=True),\n",
    "#     nn.L1Loss(size_average=True, reduce=True),\n",
    "    \n",
    "#     nn.Conv2d(225, 150, kernel_size=3, stride=1),\n",
    "#     nn.ReLU(inplace=True),\n",
    "#     nn.MaxPool2d(2, stride = 1),\n",
    "#     nn.BatchNorm2d(150, eps=1e-05, momentum=0.1, affine=True),\n",
    "#     nn.L1Loss(size_average=True, reduce=True),\n",
    "    \n",
    "#     nn.Conv2d(150, 75, kernel_size=2, stride=1),\n",
    "#     nn.ReLU(inplace=True),\n",
    "#     nn.MaxPool2d(2, stride = 1),\n",
    "#     nn.BatchNorm2d(75, eps=1e-05, momentum=0.1, affine=True),\n",
    "#     nn.L1Loss(size_average=True, reduce=True),\n",
    "    \n",
    "#     Flatten(),\n",
    "#     nn.ReLU(inplace=True),\n",
    "#     nn.Linear(675, 10),\n",
    "#     nn.LogSoftmax() \n",
    "    \n",
    "# )\n",
    "\n",
    "fixed_model = model.type(dtype)\n",
    "loss_fn = nn.CrossEntropyLoss()\n",
    "optimizer = torch.optim.RMSprop(model.parameters(), lr=0.0001, alpha=0.99, eps=1e-08, weight_decay=0, momentum=0, centered=False)"
   ]
  },
  {
   "cell_type": "code",
   "execution_count": 46,
   "metadata": {},
   "outputs": [
    {
     "name": "stdout",
     "output_type": "stream",
     "text": [
      "[32 10]\n"
     ]
    },
    {
     "name": "stderr",
     "output_type": "stream",
     "text": [
      "/anaconda3/lib/python3.6/site-packages/torch/nn/modules/container.py:91: UserWarning: Implicit dimension choice for log_softmax has been deprecated. Change the call to include dim=X as an argument.\n",
      "  input = module(input)\n"
     ]
    },
    {
     "data": {
      "text/plain": [
       "True"
      ]
     },
     "execution_count": 46,
     "metadata": {},
     "output_type": "execute_result"
    }
   ],
   "source": [
    "x = torch.randn(32, 3, 64, 64).type(dtype)\n",
    "x_var = Variable(x.type(dtype)) \n",
    "ans = fixed_model(x_var)\n",
    "print(np.array(ans.size()))\n",
    "np.array_equal(np.array(ans.size()), np.array([32, 10]))"
   ]
  },
  {
   "cell_type": "code",
   "execution_count": 47,
   "metadata": {},
   "outputs": [
    {
     "name": "stdout",
     "output_type": "stream",
     "text": [
      "Starting epoch 1 / 10\n"
     ]
    },
    {
     "name": "stderr",
     "output_type": "stream",
     "text": [
      "/anaconda3/lib/python3.6/site-packages/torch/nn/modules/container.py:91: UserWarning: Implicit dimension choice for log_softmax has been deprecated. Change the call to include dim=X as an argument.\n",
      "  input = module(input)\n",
      "/anaconda3/lib/python3.6/site-packages/ipykernel_launcher.py:13: UserWarning: invalid index of a 0-dim tensor. This will be an error in PyTorch 0.5. Use tensor.item() to convert a 0-dim tensor to a Python number\n",
      "  del sys.path[0]\n"
     ]
    },
    {
     "name": "stdout",
     "output_type": "stream",
     "text": [
      "t = 100, loss = 1.1259\n",
      "t = 200, loss = 1.0671\n",
      "t = 300, loss = 0.7296\n",
      "t = 400, loss = 0.5969\n",
      "t = 500, loss = 0.7692\n",
      "t = 600, loss = 0.3980\n",
      "t = 700, loss = 0.3669\n",
      "Starting epoch 2 / 10\n",
      "t = 100, loss = 0.4436\n",
      "t = 200, loss = 0.2795\n",
      "t = 300, loss = 0.1845\n",
      "t = 400, loss = 0.4646\n",
      "t = 500, loss = 0.2951\n",
      "t = 600, loss = 0.2789\n",
      "t = 700, loss = 0.2328\n",
      "Starting epoch 3 / 10\n",
      "t = 100, loss = 0.2586\n",
      "t = 200, loss = 0.3825\n",
      "t = 300, loss = 0.1833\n",
      "t = 400, loss = 0.1842\n",
      "t = 500, loss = 0.1218\n",
      "t = 600, loss = 0.0515\n",
      "t = 700, loss = 0.0192\n",
      "Starting epoch 4 / 10\n",
      "t = 100, loss = 0.0306\n",
      "t = 200, loss = 0.0276\n",
      "t = 300, loss = 0.0985\n",
      "t = 400, loss = 0.0653\n",
      "t = 500, loss = 0.0486\n",
      "t = 600, loss = 0.1782\n",
      "t = 700, loss = 0.0924\n",
      "Starting epoch 5 / 10\n",
      "t = 100, loss = 0.2500\n",
      "t = 200, loss = 0.0642\n",
      "t = 300, loss = 0.0774\n",
      "t = 400, loss = 0.0298\n",
      "t = 500, loss = 0.0384\n",
      "t = 600, loss = 0.1420\n",
      "t = 700, loss = 0.3274\n",
      "Starting epoch 6 / 10\n",
      "t = 100, loss = 0.1956\n",
      "t = 200, loss = 0.2383\n",
      "t = 300, loss = 0.0271\n",
      "t = 400, loss = 0.0059\n",
      "t = 500, loss = 0.1717\n",
      "t = 600, loss = 0.0218\n",
      "t = 700, loss = 0.0513\n",
      "Starting epoch 7 / 10\n",
      "t = 100, loss = 0.1120\n",
      "t = 200, loss = 0.1349\n",
      "t = 300, loss = 0.0829\n",
      "t = 400, loss = 0.2071\n",
      "t = 500, loss = 0.0213\n",
      "t = 600, loss = 0.1387\n",
      "t = 700, loss = 0.0633\n",
      "Starting epoch 8 / 10\n",
      "t = 100, loss = 0.0527\n",
      "t = 200, loss = 0.0277\n",
      "t = 300, loss = 0.1535\n",
      "t = 400, loss = 0.0231\n",
      "t = 500, loss = 0.0139\n",
      "t = 600, loss = 0.0639\n",
      "t = 700, loss = 0.0259\n",
      "Starting epoch 9 / 10\n",
      "t = 100, loss = 0.0308\n",
      "t = 200, loss = 0.0551\n",
      "t = 300, loss = 0.0301\n",
      "t = 400, loss = 0.0308\n",
      "t = 500, loss = 0.0147\n",
      "t = 600, loss = 0.0088\n",
      "t = 700, loss = 0.2022\n",
      "Starting epoch 10 / 10\n",
      "t = 100, loss = 0.0167\n",
      "t = 200, loss = 0.0766\n",
      "t = 300, loss = 0.0390\n",
      "t = 400, loss = 0.1404\n",
      "t = 500, loss = 0.0134\n",
      "t = 600, loss = 0.0131\n",
      "t = 700, loss = 0.0336\n",
      "Got 23226 / 23310 correct (99.64)\n",
      "Got 4155 / 6690 correct (62.11)\n"
     ]
    }
   ],
   "source": [
    "fixed_model.cpu()\n",
    "fixed_model.apply(reset) \n",
    "fixed_model.train() \n",
    "train(fixed_model, loss_fn, optimizer,image_dataloader_train, num_epochs=10) \n",
    "check_accuracy(fixed_model, image_dataloader_train)\n",
    "check_accuracy(fixed_model, image_dataloader_val)"
   ]
  },
  {
   "cell_type": "markdown",
   "metadata": {},
   "source": [
    "### Describe what you did \n",
    "\n",
    "In the cell below you should write an explanation of what you did, any additional features that you implemented, and any visualizations or graphs that you make in the process of training and evaluating your network."
   ]
  },
  {
   "cell_type": "markdown",
   "metadata": {},
   "source": [
    "# 4th ToDo"
   ]
  },
  {
   "cell_type": "code",
   "execution_count": 72,
   "metadata": {
    "collapsed": true
   },
   "outputs": [],
   "source": [
    "# Tell us here!\n",
    "# ###########4th TODO (5 points) ##############\n",
    "\n",
    "# For the final model:\n",
    "# In the \"things you should try\" text above it was mentioned some architectures to follow. \n",
    "# I followed the following architecture: [conv-relu-pool-Norm-dropout]xN -> [affine]xM -> [softmax]\n",
    "# Other points mentioned were that filter size smaller can be more efficient. \n",
    "# Hence, I started with filter size of 10x10 and then reduced it momentarily with a stride of 2 to start with. \n",
    "# Then further it was suggested to use Batch Normalization and hence I used it in my final network architecture. \n",
    "# Also, as mentioned that we can use either L2 norm or dropout, I used dropout for my architecture.\n",
    "\n",
    "# My final network architecture looked like:\n",
    "\n",
    "# 10x10 conv2d layer with 2 strides and 300 filters\n",
    "# relu activation layer with inplace True\n",
    "# MaxPool2d layer with 2 strides and 3x3 window size\n",
    "# BatchNorm2d layer on the data set for 300 filters\n",
    "# Dropout layer with threshold of 0.2\n",
    "\n",
    "# 5x5 conv2d layer with 1 stride and 200 filters\n",
    "# relu activation layer with inplace True\n",
    "# MaxPool2d layer with 1 stride and 3x3 window size\n",
    "# BatchNorm2d layer on the data set for 200 filters\n",
    "# Dropout layer with threshold of 0.2\n",
    "\n",
    "# 3x3 conv2d layer with 1 stride and 100 filters\n",
    "# relu activation layer with inplace True\n",
    "# MaxPool2d layer with 1 stride and 2x2 window size\n",
    "# BatchNorm2d layer on the data set for 100 filters\n",
    "# Dropout layer with threshold of 0.2\n",
    "\n",
    "# 2x2 conv2d layer with 1 stride and 50 filters\n",
    "# relu activation layer with inplace True\n",
    "# MaxPool2d layer with 1 stride1 and 2x2 window size\n",
    "# BatchNorm2d layer on the data set for 50 filters\n",
    "\n",
    "# Used flatten function\n",
    "\n",
    "# Used Linear function which is the affine layer with input as 200 to 100\n",
    "# Used Linear function which is the affine layer with input as 100 to 50\n",
    "# Used Linear function which is the affine layer with input as 50 to 10\n",
    "\n",
    "# Used LogSoftmax layer"
   ]
  },
  {
   "cell_type": "code",
   "execution_count": null,
   "metadata": {
    "collapsed": true
   },
   "outputs": [],
   "source": []
  },
  {
   "cell_type": "markdown",
   "metadata": {},
   "source": [
    "### Testing the model and submit on Kaggle\n",
    "Testing the model on the testing set and save the results as a .csv file. \n",
    "Please submitted the results.csv file generated by predict_on_test() to Kaggle(https://www.kaggle.com/c/cse512springhw3) to see how well your network performs on the test set. \n",
    "#######5th TODO (submit the result to Kaggle, the highest 3 entries get extra 10 points )###############"
   ]
  },
  {
   "cell_type": "code",
   "execution_count": 48,
   "metadata": {},
   "outputs": [
    {
     "name": "stderr",
     "output_type": "stream",
     "text": [
      "/anaconda3/lib/python3.6/site-packages/torch/nn/modules/container.py:91: UserWarning: Implicit dimension choice for log_softmax has been deprecated. Change the call to include dim=X as an argument.\n",
      "  input = module(input)\n"
     ]
    },
    {
     "name": "stdout",
     "output_type": "stream",
     "text": [
      "9810\n"
     ]
    }
   ],
   "source": [
    "def predict_on_test(model, loader):\n",
    "    '''\n",
    "    if loader.dataset.train:\n",
    "        print('Checking accuracy on validation set')\n",
    "    else:\n",
    "        print('Checking accuracy on test set')  \n",
    "    '''\n",
    "    num_correct = 0\n",
    "    num_samples = 0\n",
    "    model.eval() # Put the model in test mode (the opposite of model.train(), essentially)\n",
    "    results=open('results.csv','w')\n",
    "    count=0\n",
    "    results.write('Id'+','+'Class'+'\\n')\n",
    "    for t, sample in enumerate(loader):\n",
    "        x_var = Variable(sample['image'])\n",
    "        scores = model(x_var)\n",
    "        _, preds = scores.data.max(1)\n",
    "        for i in range(len(preds)):\n",
    "            results.write(str(count)+','+str(preds[i])+'\\n')\n",
    "            count+=1\n",
    "    results.close()\n",
    "    return count\n",
    "    \n",
    "count=predict_on_test(fixed_model, image_dataloader_test)\n",
    "print(count)"
   ]
  },
  {
   "cell_type": "code",
   "execution_count": null,
   "metadata": {
    "collapsed": true
   },
   "outputs": [],
   "source": []
  },
  {
   "cell_type": "markdown",
   "metadata": {},
   "source": [
    "### GPU! (This part is optional, 0 points)\n",
    "\n",
    "If you have access to GPU, you can make the code run on GPU, it would be much faster. \n",
    "\n",
    "Now, we're going to switch the dtype of the model and our data to the GPU-friendly tensors, and see what happens... everything is the same, except we are casting our model and input tensors as this new dtype instead of the old one.\n",
    "\n",
    "If this returns false, or otherwise fails in a not-graceful way (i.e., with some error message), you may not have an NVIDIA GPU available on your machine. "
   ]
  },
  {
   "cell_type": "code",
   "execution_count": 39,
   "metadata": {},
   "outputs": [
    {
     "data": {
      "text/plain": [
       "False"
      ]
     },
     "execution_count": 39,
     "metadata": {},
     "output_type": "execute_result"
    }
   ],
   "source": [
    "# Verify that CUDA is properly configured and you have a GPU available\n",
    "\n",
    "torch.cuda.is_available()"
   ]
  },
  {
   "cell_type": "code",
   "execution_count": null,
   "metadata": {
    "collapsed": true
   },
   "outputs": [],
   "source": [
    "import copy\n",
    "gpu_dtype = torch.cuda.FloatTensor\n",
    "\n",
    "fixed_model_gpu = copy.deepcopy(fixed_model_base)#.type(gpu_dtype)\n",
    "fixed_model_gpu.cuda()\n",
    "x_gpu = torch.randn(4, 3, 64, 64).cuda()#.type(gpu_dtype)\n",
    "x_var_gpu = Variable(x_gpu)#type(gpu_dtype)) # Construct a PyTorch Variable out of your input data\n",
    "ans = fixed_model_gpu(x_var_gpu)        # Feed it through the model! \n",
    "\n",
    "# Check to make sure what comes out of your model\n",
    "# is the right dimensionality... this should be True\n",
    "# if you've done everything correctly\n",
    "np.array_equal(np.array(ans.size()), np.array([4, 10]))\n"
   ]
  },
  {
   "cell_type": "markdown",
   "metadata": {},
   "source": [
    "Run the following cell to evaluate the performance of the forward pass running on the CPU:"
   ]
  },
  {
   "cell_type": "code",
   "execution_count": null,
   "metadata": {
    "collapsed": true
   },
   "outputs": [],
   "source": [
    "%%timeit \n",
    "ans = fixed_model(x_var)"
   ]
  },
  {
   "cell_type": "markdown",
   "metadata": {},
   "source": [
    "... and now the GPU:"
   ]
  },
  {
   "cell_type": "code",
   "execution_count": null,
   "metadata": {
    "collapsed": true
   },
   "outputs": [],
   "source": [
    "%%timeit \n",
    "torch.cuda.synchronize() # Make sure there are no pending GPU computations\n",
    "ans = fixed_model_gpu(x_var_gpu)        # Feed it through the model! \n",
    "torch.cuda.synchronize() # Make sure there are no pending GPU computations"
   ]
  },
  {
   "cell_type": "markdown",
   "metadata": {},
   "source": [
    "You should observe that even a simple forward pass like this is significantly faster on the GPU. So for the rest of the assignment (and when you go train your models in assignment 3 and your project!), you should use the GPU datatype for your model and your tensors: as a reminder that is *torch.cuda.FloatTensor* (in our notebook here as *gpu_dtype*)"
   ]
  },
  {
   "cell_type": "markdown",
   "metadata": {},
   "source": [
    "Let's make the loss function and training variables to GPU friendly format by '.cuda()'"
   ]
  },
  {
   "cell_type": "code",
   "execution_count": null,
   "metadata": {
    "collapsed": true
   },
   "outputs": [],
   "source": [
    "loss_fn = nn.CrossEntropyLoss().cuda()\n",
    "optimizer = optim.RMSprop(fixed_model_gpu.parameters(), lr=1e-4)"
   ]
  },
  {
   "cell_type": "code",
   "execution_count": null,
   "metadata": {
    "collapsed": true
   },
   "outputs": [],
   "source": [
    "def train(model, loss_fn, optimizer, dataloader, num_epochs = 1):\n",
    "    for epoch in range(num_epochs):\n",
    "        print('Starting epoch %d / %d' % (epoch + 1, num_epochs))\n",
    "        model.train()\n",
    "        for t, sample in enumerate(dataloader):\n",
    "            x_var = Variable(sample['image'].cuda())\n",
    "            y_var = Variable(sample['Label'].cuda().long())\n",
    "\n",
    "            scores = model(x_var)\n",
    "            \n",
    "            loss = loss_fn(scores, y_var)\n",
    "            if (t + 1) % print_every == 0:\n",
    "                print('t = %d, loss = %.4f' % (t + 1, loss.data[0]))\n",
    "\n",
    "            optimizer.zero_grad()\n",
    "            loss.backward()\n",
    "            optimizer.step()\n",
    "\n",
    "def check_accuracy(model, loader):\n",
    "    '''\n",
    "    if loader.dataset.train:\n",
    "        print('Checking accuracy on validation set')\n",
    "    else:\n",
    "        print('Checking accuracy on test set')  \n",
    "    '''\n",
    "    num_correct = 0\n",
    "    num_samples = 0\n",
    "    model.eval() # Put the model in test mode (the opposite of model.train(), essentially)\n",
    "    for t, sample in enumerate(loader):\n",
    "        x_var = Variable(sample['image'].cuda())\n",
    "        y_var = sample['Label'].cuda()\n",
    "        y_var=y_var.cpu()\n",
    "        scores = model(x_var)\n",
    "        _, preds = scores.data.cpu().max(1)\n",
    "        #print(preds)\n",
    "        #print(y_var)\n",
    "        num_correct += (preds.numpy() == y_var.numpy()).sum()\n",
    "        num_samples += preds.size(0)\n",
    "    acc = float(num_correct) / num_samples\n",
    "    print('Got %d / %d correct (%.2f)' % (num_correct, num_samples, 100 * acc))"
   ]
  },
  {
   "cell_type": "markdown",
   "metadata": {},
   "source": [
    "Run on GPU!"
   ]
  },
  {
   "cell_type": "code",
   "execution_count": null,
   "metadata": {
    "collapsed": true
   },
   "outputs": [],
   "source": [
    "torch.cuda.random.manual_seed(12345)\n",
    "\n",
    "fixed_model_gpu.apply(reset) \n",
    "fixed_model_gpu.train() \n",
    "train(fixed_model_gpu, loss_fn, optimizer,image_dataloader_train, num_epochs=1) \n",
    "check_accuracy(fixed_model_gpu, image_dataloader_train)# check accuracy on the training set\n"
   ]
  },
  {
   "cell_type": "markdown",
   "metadata": {},
   "source": [
    "### 3D Convolution on video clips (25 points+10 extra points)\n",
    "3D convolution is for videos, it has one more dimension than 2d convolution. You can find the document for 3D convolution here http://pytorch.org/docs/master/nn.html#torch.nn.Conv3dIn. In our dataset, each clip is a video of 3 frames. Lets classify the each clip rather than each image using 3D convolution.\n",
    "We offer the data loader, the train_3d and check_accuracy"
   ]
  },
  {
   "cell_type": "code",
   "execution_count": 13,
   "metadata": {},
   "outputs": [
    {
     "name": "stdout",
     "output_type": "stream",
     "text": [
      "torch.Size([3, 3, 64, 64])\n",
      "0.0\n",
      "00001\n",
      "torch.Size([3, 3, 64, 64])\n",
      "0.0\n",
      "00002\n",
      "torch.Size([3, 3, 64, 64])\n",
      "0.0\n",
      "00003\n",
      "torch.Size([3, 3, 64, 64])\n",
      "0.0\n",
      "00004\n",
      "torch.Size([3, 3, 64, 64])\n",
      "0.0\n",
      "00005\n",
      "torch.Size([3, 3, 64, 64])\n",
      "0.0\n",
      "00006\n",
      "torch.Size([3, 3, 64, 64])\n",
      "0.0\n",
      "00007\n",
      "torch.Size([3, 3, 64, 64])\n",
      "0.0\n",
      "00008\n",
      "torch.Size([3, 3, 64, 64])\n",
      "0.0\n",
      "00009\n",
      "torch.Size([3, 3, 64, 64])\n",
      "0.0\n",
      "00010\n"
     ]
    }
   ],
   "source": [
    "class ActionClipDataset(Dataset):\n",
    "    \"\"\"Action Landmarks dataset.\"\"\"\n",
    "\n",
    "    def __init__(self,  root_dir,labels=[], transform=None):\n",
    "        \"\"\"\n",
    "        Args:\n",
    "            csv_file (string): Path to the csv file with annotations.\n",
    "            root_dir (string): Directory with all the images.\n",
    "            transform (callable, optional): Optional transform to be applied\n",
    "                on a sample.\n",
    "        \"\"\"\n",
    "        \n",
    "        self.root_dir = root_dir\n",
    "        self.transform = transform\n",
    "        self.length=len(os.listdir(self.root_dir))\n",
    "        self.labels=labels\n",
    "\n",
    "    def __len__(self):\n",
    "        return self.length\n",
    "\n",
    "    def __getitem__(self, idx):\n",
    "        \n",
    "        folder=idx+1\n",
    "        folder=format(folder,'05d')\n",
    "        clip=[]\n",
    "        if len(self.labels)!=0:\n",
    "            Label=self.labels[idx][0]-1\n",
    "        for i in range(3):\n",
    "            imidx=i+1\n",
    "            imgname=str(imidx)+'.jpg'\n",
    "            img_path = os.path.join(self.root_dir,\n",
    "                                    folder,imgname)\n",
    "            image = Image.open(img_path)\n",
    "            image=np.array(image)\n",
    "            clip.append(image)\n",
    "        if self.transform:\n",
    "            clip=np.asarray(clip)\n",
    "            clip=np.transpose(clip, (0,3,1,2))\n",
    "            clip = torch.from_numpy(np.asarray(clip))\n",
    "        if len(self.labels)!=0:\n",
    "            sample={'clip':clip,'Label':Label,'folder':folder}\n",
    "        else:\n",
    "            sample={'clip':clip,'folder':folder}\n",
    "        return sample\n",
    "\n",
    "clip_dataset=ActionClipDataset(root_dir='./data/trainClips/',\\\n",
    "                               labels=label_train,transform=T.ToTensor())#/home/tqvinh/Study/CSE512/cse512-s18/hw2data/trainClips/\n",
    "for i in range(10):\n",
    "    sample=clip_dataset[i]\n",
    "    print(sample['clip'].shape)\n",
    "    print(sample['Label'])\n",
    "    print(sample['folder'])"
   ]
  },
  {
   "cell_type": "code",
   "execution_count": 14,
   "metadata": {},
   "outputs": [
    {
     "name": "stdout",
     "output_type": "stream",
     "text": [
      "0 torch.Size([4, 3, 3, 64, 64]) ['00385', '04253', '05311', '05483'] tensor([0., 5., 6., 6.], dtype=torch.float64)\n",
      "1 torch.Size([4, 3, 3, 64, 64]) ['06084', '00055', '05293', '07001'] tensor([7., 0., 6., 8.], dtype=torch.float64)\n",
      "2 torch.Size([4, 3, 3, 64, 64]) ['02943', '07238', '00284', '02527'] tensor([3., 9., 0., 2.], dtype=torch.float64)\n",
      "3 torch.Size([4, 3, 3, 64, 64]) ['02395', '06047', '03416', '00902'] tensor([2., 7., 3., 0.], dtype=torch.float64)\n",
      "4 torch.Size([4, 3, 3, 64, 64]) ['06571', '00304', '00477', '03020'] tensor([8., 0., 0., 3.], dtype=torch.float64)\n",
      "5 torch.Size([4, 3, 3, 64, 64]) ['02637', '05892', '03469', '04322'] tensor([2., 7., 3., 5.], dtype=torch.float64)\n",
      "6 torch.Size([4, 3, 3, 64, 64]) ['03032', '05550', '02333', '00344'] tensor([3., 6., 2., 0.], dtype=torch.float64)\n",
      "7 torch.Size([4, 3, 3, 64, 64]) ['07722', '03298', '02042', '05434'] tensor([9., 3., 2., 6.], dtype=torch.float64)\n",
      "8 torch.Size([4, 3, 3, 64, 64]) ['05202', '03254', '05736', '05508'] tensor([6., 3., 7., 6.], dtype=torch.float64)\n",
      "9 torch.Size([4, 3, 3, 64, 64]) ['07633', '03948', '04284', '04840'] tensor([9., 4., 5., 5.], dtype=torch.float64)\n",
      "10 torch.Size([4, 3, 3, 64, 64]) ['02444', '03535', '00154', '07424'] tensor([2., 4., 0., 9.], dtype=torch.float64)\n",
      "11 torch.Size([4, 3, 3, 64, 64]) ['00898', '01473', '03962', '00131'] tensor([0., 1., 4., 0.], dtype=torch.float64)\n",
      "12 torch.Size([4, 3, 3, 64, 64]) ['05734', '04787', '05705', '01445'] tensor([7., 5., 7., 1.], dtype=torch.float64)\n",
      "13 torch.Size([4, 3, 3, 64, 64]) ['00217', '04679', '06629', '06066'] tensor([0., 5., 8., 7.], dtype=torch.float64)\n",
      "14 torch.Size([4, 3, 3, 64, 64]) ['03119', '06381', '01442', '06841'] tensor([3., 7., 1., 8.], dtype=torch.float64)\n",
      "15 torch.Size([4, 3, 3, 64, 64]) ['03063', '03280', '05696', '00166'] tensor([3., 3., 7., 0.], dtype=torch.float64)\n",
      "16 torch.Size([4, 3, 3, 64, 64]) ['07173', '02091', '02459', '03216'] tensor([9., 2., 2., 3.], dtype=torch.float64)\n",
      "17 torch.Size([4, 3, 3, 64, 64]) ['06222', '05245', '02063', '03484'] tensor([7., 6., 2., 3.], dtype=torch.float64)\n",
      "18 torch.Size([4, 3, 3, 64, 64]) ['04016', '06361', '05524', '02944'] tensor([4., 7., 6., 3.], dtype=torch.float64)\n",
      "19 torch.Size([4, 3, 3, 64, 64]) ['05809', '05223', '07205', '04723'] tensor([7., 6., 9., 5.], dtype=torch.float64)\n",
      "20 torch.Size([4, 3, 3, 64, 64]) ['00642', '03097', '03313', '05790'] tensor([0., 3., 3., 7.], dtype=torch.float64)\n",
      "21 torch.Size([4, 3, 3, 64, 64]) ['05651', '03225', '03714', '02562'] tensor([7., 3., 4., 2.], dtype=torch.float64)\n"
     ]
    }
   ],
   "source": [
    "clip_dataloader = DataLoader(clip_dataset, batch_size=4,\n",
    "                        shuffle=True, num_workers=4)\n",
    "\n",
    "\n",
    "for i,sample in enumerate(clip_dataloader):\n",
    "    print(i,sample['clip'].shape,sample['folder'],sample['Label'])\n",
    "    if i>20: \n",
    "        break"
   ]
  },
  {
   "cell_type": "code",
   "execution_count": 15,
   "metadata": {
    "collapsed": true
   },
   "outputs": [],
   "source": [
    "clip_dataset_train=ActionClipDataset(root_dir='./data/trainClips/',labels=label_train,transform=T.ToTensor())\n",
    "\n",
    "clip_dataloader_train = DataLoader(clip_dataset_train, batch_size=16,\n",
    "                        shuffle=True, num_workers=4)\n",
    "clip_dataset_val=ActionClipDataset(root_dir='./data/valClips/',labels=label_val,transform=T.ToTensor())\n",
    "\n",
    "clip_dataloader_val = DataLoader(clip_dataset_val, batch_size=16,\n",
    "                        shuffle=True, num_workers=4)\n",
    "clip_dataset_test=ActionClipDataset(root_dir='./data/testClips/',labels=[],transform=T.ToTensor())\n",
    "\n",
    "clip_dataloader_test = DataLoader(clip_dataset_test, batch_size=16,\n",
    "                        shuffle=False, num_workers=4)"
   ]
  },
  {
   "cell_type": "markdown",
   "metadata": {},
   "source": [
    "Write the Flatten for 3d covolution feature maps."
   ]
  },
  {
   "cell_type": "code",
   "execution_count": 16,
   "metadata": {
    "collapsed": true
   },
   "outputs": [],
   "source": [
    "class Flatten3d(nn.Module):\n",
    "    def forward(self, x):\n",
    "        ###############6th TODO (5 points)###################\n",
    "        N, C, D, H, W = x.size()\n",
    "        return x.view(N, -1)\n",
    "        "
   ]
  },
  {
   "cell_type": "markdown",
   "metadata": {},
   "source": [
    "Design a network using 3D convolution on videos for video classification."
   ]
  },
  {
   "cell_type": "code",
   "execution_count": 87,
   "metadata": {},
   "outputs": [
    {
     "data": {
      "text/plain": [
       "True"
      ]
     },
     "execution_count": 87,
     "metadata": {},
     "output_type": "execute_result"
    }
   ],
   "source": [
    "fixed_model_3d = nn.Sequential( \n",
    "    # You fill this in!\n",
    "    ###############7th TODO (20 points)#########################\n",
    "\n",
    "# # Sixth Model\n",
    "#     nn.Conv3d(3, 16, kernel_size=3, stride=2, padding=2),\n",
    "#     nn.ReLU(inplace=True),\n",
    "#     nn.MaxPool3d(kernel_size=2, stride=2),\n",
    "#     nn.BatchNorm3d(16),\n",
    "#     nn.Dropout3d(0.2),\n",
    "    \n",
    "#     nn.Conv3d(16, 128, kernel_size=2, stride=1, padding=2),\n",
    "#     nn.ReLU(inplace=True),\n",
    "#     nn.MaxPool3d(kernel_size=2, stride=2),\n",
    "#     nn.BatchNorm3d(128),\n",
    "#     nn.Dropout3d(0.2),\n",
    "    \n",
    "    \n",
    "#     Flatten3d(),\n",
    "#     nn.ReLU(inplace=True),\n",
    "    \n",
    "#     nn.Linear(20736, 10),\n",
    "    \n",
    "    \n",
    "    ########################################################\n",
    "    \n",
    "    # Fifth Model - Final model ; as got the best accuracy from this\n",
    "    nn.Conv3d(3, 16, kernel_size=3, stride=2, padding=2),\n",
    "    nn.ReLU(inplace=True),\n",
    "    nn.MaxPool3d(kernel_size=2, stride=2),\n",
    "    nn.BatchNorm3d(16),\n",
    "    nn.Dropout3d(0.2),\n",
    "    \n",
    "    nn.Conv3d(16, 64, kernel_size=2, stride=1, padding=2),\n",
    "    nn.ReLU(inplace=True),\n",
    "    nn.MaxPool3d(kernel_size=2, stride=2),\n",
    "    nn.BatchNorm3d(64),\n",
    "    nn.Dropout3d(0.2),\n",
    "    \n",
    "    \n",
    "    Flatten3d(),\n",
    "    nn.ReLU(inplace=True),\n",
    "    \n",
    "    nn.Linear(10368, 10),\n",
    "    \n",
    "    ########################################################\n",
    "    \n",
    "    \n",
    "    \n",
    "    \n",
    "#     # Fourth Model\n",
    "#     nn.Conv3d(3, 16, kernel_size=3, stride=2, padding=2),\n",
    "#     nn.ReLU(inplace=True),\n",
    "#     nn.MaxPool3d(kernel_size=2, stride=2),\n",
    "#     nn.BatchNorm3d(16),\n",
    "#     nn.Dropout3d(0.2),\n",
    "    \n",
    "#     nn.Conv3d(16, 32, kernel_size=2, stride=1, padding=2),\n",
    "#     nn.ReLU(inplace=True),\n",
    "#     nn.MaxPool3d(kernel_size=2, stride=2),\n",
    "#     nn.BatchNorm3d(32),\n",
    "#     nn.Dropout3d(0.1),\n",
    "    \n",
    "    \n",
    "#     Flatten3d(),\n",
    "#     nn.ReLU(inplace=True),\n",
    "    \n",
    "#     nn.Linear(5184, 432),\n",
    "#     nn.Linear(432, 36),\n",
    "#     nn.Linear(36, 10),\n",
    "    \n",
    "## Third Model\n",
    "#     nn.Conv3d(3, 16, kernel_size=3, stride=2, padding=2),\n",
    "#     nn.ReLU(inplace=True),\n",
    "#     nn.MaxPool3d(kernel_size=2, stride=2),\n",
    "#     nn.BatchNorm3d(16),\n",
    "#     nn.Dropout3d(0.2),\n",
    "    \n",
    "#     nn.Conv3d(16, 32, kernel_size=2, stride=1, padding=2),\n",
    "#     nn.ReLU(inplace=True),\n",
    "#     nn.MaxPool3d(kernel_size=2, stride=2),\n",
    "#     nn.BatchNorm3d(32),\n",
    "#     nn.Dropout3d(0.2),\n",
    "    \n",
    "    \n",
    "#     Flatten3d(),\n",
    "#     nn.ReLU(inplace=True),\n",
    "    \n",
    "#     nn.Linear(5184, 10),\n",
    "    \n",
    "    \n",
    "## Second Model   \n",
    "#     nn.Conv3d(3, 16, kernel_size=3, stride=2, padding=2),\n",
    "#     nn.ReLU(inplace=True),\n",
    "#     nn.MaxPool3d(kernel_size=2, stride=2),\n",
    "#     nn.BatchNorm3d(16),\n",
    "#     nn.Dropout3d(0.2),\n",
    "    \n",
    "#     nn.Conv3d(16, 32, kernel_size=2, stride=2, padding=2),\n",
    "#     nn.ReLU(inplace=True),\n",
    "#     nn.MaxPool3d(kernel_size=1, stride=1),\n",
    "#     nn.BatchNorm3d(32),\n",
    "#     nn.Dropout3d(0.2),\n",
    "    \n",
    "#     nn.Conv3d(32, 64, kernel_size=1, stride=1, padding=1),\n",
    "#     nn.ReLU(inplace=True),\n",
    "#     nn.MaxPool3d(kernel_size=1, stride=1),\n",
    "#     nn.BatchNorm3d(64),\n",
    "#     nn.Dropout3d(0.2),\n",
    "    \n",
    "    \n",
    "#     Flatten3d(),\n",
    "#     nn.ReLU(inplace=True),\n",
    "    \n",
    "#     nn.Linear(36864, 192),\n",
    "#     nn.Linear(192, 10),\n",
    "    \n",
    "    \n",
    "    \n",
    "## First Model\n",
    "#     nn.Conv3d(3, 16, kernel_size=3, stride=2, padding=2),\n",
    "#     nn.ReLU(inplace=True),\n",
    "#     nn.MaxPool3d(kernel_size=2, stride=2),\n",
    "#     nn.BatchNorm3d(16),\n",
    "#     nn.Dropout3d(0.2),\n",
    "    \n",
    "#     nn.Conv3d(16, 32, kernel_size=2, stride=2, padding=1),\n",
    "#     nn.ReLU(inplace=True),\n",
    "#     nn.MaxPool3d(kernel_size=1, stride=2),\n",
    "#     nn.BatchNorm3d(32),\n",
    "#     nn.Dropout3d(0.2),\n",
    "    \n",
    "#     nn.Conv3d(32, 64, kernel_size=1, stride=1, padding=1),\n",
    "#     nn.ReLU(inplace=True),\n",
    "#     nn.MaxPool3d(kernel_size=1, stride=1),\n",
    "#     nn.BatchNorm3d(64),\n",
    "#     nn.Dropout3d(0.1),\n",
    "    \n",
    "    \n",
    "#     Flatten3d(),\n",
    "#     nn.ReLU(inplace=True),\n",
    "    \n",
    "#     nn.Linear(9408, 4704),\n",
    "#     nn.Linear(4704, 2352),\n",
    "#     nn.Linear(2352, 10),\n",
    "    \n",
    "    \n",
    ")\n",
    "\n",
    "fixed_model_3d = fixed_model_3d.type(dtype)\n",
    "x = torch.randn(32,3, 3, 64, 64).type(dtype)\n",
    "x_var = Variable(x).type(dtype) # Construct a PyTorch Variable out of your input data\n",
    "ans = fixed_model_3d(x_var) \n",
    "np.array_equal(np.array(ans.size()), np.array([32, 10]))\n"
   ]
  },
  {
   "cell_type": "markdown",
   "metadata": {},
   "source": [
    "### Describe what you did (5 points)\n",
    "\n",
    "In the cell below you should write an explanation of what you did, any additional features that you implemented, and any visualizations or graphs that you make in the process of training and evaluating your network."
   ]
  },
  {
   "cell_type": "markdown",
   "metadata": {},
   "source": [
    "### 8th TODO Tell us here:"
   ]
  },
  {
   "cell_type": "code",
   "execution_count": 88,
   "metadata": {
    "collapsed": true
   },
   "outputs": [],
   "source": [
    "# I took reference from my previos model and this time decreased my kernel size and \n",
    "# increased the number of filters with each layer\n",
    "\n",
    "# My model has the following architecture:\n",
    "# [conv-relu-pool-Norm-dropout]xN -> [affine]xM\n",
    "\n",
    "# My final network architecture is:\n",
    "\n",
    "# 3x3 conv3d layer with 2 strides and 16 filters and 2 padding\n",
    "# relu activation layer with inplace True\n",
    "# MaxPool3d layer with 2 strides and 2x2 window size\n",
    "# BatchNorm3d layer on the data set for 16 filters\n",
    "# Dropout layer with threshold of 0.2\n",
    "\n",
    "# 2x2 conv3d layer with 1 stride and 64 filters and 2 padding\n",
    "# relu activation layer with inplace True\n",
    "# MaxPool3d layer with 2 strides and 2x2 window size\n",
    "# BatchNorm3d layer on the data set for 64 filters\n",
    "# Dropout layer with threshold of 0.2\n",
    "\n",
    "# Used flatten function\n",
    "# relu activation layer with inplace True\n",
    "\n",
    "# Used Linear function which is the affine layer with input as 10368 to 10 as output"
   ]
  },
  {
   "cell_type": "code",
   "execution_count": 89,
   "metadata": {
    "collapsed": true
   },
   "outputs": [],
   "source": [
    "loss_fn = nn.CrossEntropyLoss().type(dtype)\n",
    "optimizer = optim.RMSprop(fixed_model_3d.parameters(), lr=1e-4)\n"
   ]
  },
  {
   "cell_type": "code",
   "execution_count": 90,
   "metadata": {
    "collapsed": true
   },
   "outputs": [],
   "source": [
    "def train_3d(model, loss_fn, optimizer,dataloader,num_epochs = 1):\n",
    "    for epoch in range(num_epochs):\n",
    "        print('Starting epoch %d / %d' % (epoch + 1, num_epochs))\n",
    "        model.train()\n",
    "        for t, sample in enumerate(dataloader):\n",
    "            x_var = Variable(sample['clip'].type(dtype))\n",
    "            y_var = Variable(sample['Label'].type(dtype).long())\n",
    "\n",
    "            scores = model(x_var)\n",
    "            \n",
    "            loss = loss_fn(scores, y_var)\n",
    "            if (t + 1) % print_every == 0:\n",
    "                print('t = %d, loss = %.4f' % (t + 1, loss.data[0]))\n",
    "\n",
    "            optimizer.zero_grad()\n",
    "            loss.backward()\n",
    "            optimizer.step()\n",
    "\n",
    "def check_accuracy_3d(model, loader):\n",
    "    '''\n",
    "    if loader.dataset.train:\n",
    "        print('Checking accuracy on validation set')\n",
    "    else:\n",
    "        print('Checking accuracy on test set')  \n",
    "    '''\n",
    "    num_correct = 0\n",
    "    num_samples = 0\n",
    "    model.eval() # Put the model in test mode (the opposite of model.train(), essentially)\n",
    "    for t, sample in enumerate(loader):\n",
    "        x_var = Variable(sample['clip'].type(dtype))\n",
    "        y_var = sample['Label'].type(dtype)\n",
    "        y_var=y_var.cpu()\n",
    "        scores = model(x_var)\n",
    "        _, preds = scores.data.cpu().max(1)\n",
    "        #print(preds)\n",
    "        #print(y_var)\n",
    "        num_correct += (preds.numpy() == y_var.numpy()).sum()\n",
    "        num_samples += preds.size(0)\n",
    "    acc = float(num_correct) / num_samples\n",
    "    print('Got %d / %d correct (%.2f)' % (num_correct, num_samples, 100 * acc))"
   ]
  },
  {
   "cell_type": "code",
   "execution_count": 91,
   "metadata": {},
   "outputs": [
    {
     "name": "stdout",
     "output_type": "stream",
     "text": [
      "Starting epoch 1 / 10\n"
     ]
    },
    {
     "name": "stderr",
     "output_type": "stream",
     "text": [
      "/anaconda3/lib/python3.6/site-packages/ipykernel_launcher.py:13: UserWarning: invalid index of a 0-dim tensor. This will be an error in PyTorch 0.5. Use tensor.item() to convert a 0-dim tensor to a Python number\n",
      "  del sys.path[0]\n"
     ]
    },
    {
     "name": "stdout",
     "output_type": "stream",
     "text": [
      "t = 100, loss = 1.2790\n",
      "t = 200, loss = 0.7527\n",
      "t = 300, loss = 0.6266\n",
      "t = 400, loss = 0.5459\n",
      "Starting epoch 2 / 10\n",
      "t = 100, loss = 0.2841\n",
      "t = 200, loss = 0.5181\n",
      "t = 300, loss = 0.5683\n",
      "t = 400, loss = 0.3582\n",
      "Starting epoch 3 / 10\n",
      "t = 100, loss = 0.3183\n",
      "t = 200, loss = 0.1477\n",
      "t = 300, loss = 0.1314\n",
      "t = 400, loss = 0.3942\n",
      "Starting epoch 4 / 10\n",
      "t = 100, loss = 0.1923\n",
      "t = 200, loss = 0.2524\n",
      "t = 300, loss = 0.3083\n",
      "t = 400, loss = 0.2548\n",
      "Starting epoch 5 / 10\n",
      "t = 100, loss = 0.0772\n",
      "t = 200, loss = 0.0353\n",
      "t = 300, loss = 0.2339\n",
      "t = 400, loss = 0.1179\n",
      "Starting epoch 6 / 10\n",
      "t = 100, loss = 0.1098\n",
      "t = 200, loss = 0.0302\n",
      "t = 300, loss = 0.0811\n",
      "t = 400, loss = 0.0594\n",
      "Starting epoch 7 / 10\n",
      "t = 100, loss = 0.0308\n",
      "t = 200, loss = 0.1362\n",
      "t = 300, loss = 0.1152\n",
      "t = 400, loss = 0.0404\n",
      "Starting epoch 8 / 10\n",
      "t = 100, loss = 0.0159\n",
      "t = 200, loss = 0.0309\n",
      "t = 300, loss = 0.2406\n",
      "t = 400, loss = 0.1317\n",
      "Starting epoch 9 / 10\n",
      "t = 100, loss = 0.0255\n",
      "t = 200, loss = 0.1025\n",
      "t = 300, loss = 0.0060\n",
      "t = 400, loss = 0.0290\n",
      "Starting epoch 10 / 10\n",
      "t = 100, loss = 0.0282\n",
      "t = 200, loss = 0.0123\n",
      "t = 300, loss = 0.0096\n",
      "t = 400, loss = 0.0250\n",
      "Got 1545 / 2230 correct (69.28)\n"
     ]
    }
   ],
   "source": [
    "torch.cuda.random.manual_seed(12345)\n",
    "fixed_model_3d.apply(reset) \n",
    "fixed_model_3d.train() \n",
    "train_3d(fixed_model_3d, loss_fn, optimizer,clip_dataloader_train, num_epochs=10) \n",
    "fixed_model_3d.eval() \n",
    "check_accuracy_3d(fixed_model_3d, clip_dataloader_val)"
   ]
  },
  {
   "cell_type": "code",
   "execution_count": 77,
   "metadata": {},
   "outputs": [
    {
     "name": "stdout",
     "output_type": "stream",
     "text": [
      "Starting epoch 1 / 10\n"
     ]
    },
    {
     "name": "stderr",
     "output_type": "stream",
     "text": [
      "/anaconda3/lib/python3.6/site-packages/ipykernel_launcher.py:13: UserWarning: invalid index of a 0-dim tensor. This will be an error in PyTorch 0.5. Use tensor.item() to convert a 0-dim tensor to a Python number\n",
      "  del sys.path[0]\n"
     ]
    },
    {
     "name": "stdout",
     "output_type": "stream",
     "text": [
      "t = 100, loss = 1.3368\n",
      "t = 200, loss = 1.0647\n",
      "t = 300, loss = 1.3216\n",
      "t = 400, loss = 0.3675\n",
      "Starting epoch 2 / 10\n",
      "t = 100, loss = 0.8657\n",
      "t = 200, loss = 0.5539\n",
      "t = 300, loss = 0.6878\n",
      "t = 400, loss = 0.5717\n",
      "Starting epoch 3 / 10\n",
      "t = 100, loss = 0.4232\n",
      "t = 200, loss = 0.1448\n",
      "t = 300, loss = 0.2247\n",
      "t = 400, loss = 0.3301\n",
      "Starting epoch 4 / 10\n",
      "t = 100, loss = 0.1830\n",
      "t = 200, loss = 0.1844\n",
      "t = 300, loss = 0.4027\n",
      "t = 400, loss = 0.3996\n",
      "Starting epoch 5 / 10\n",
      "t = 100, loss = 0.1301\n",
      "t = 200, loss = 0.2617\n",
      "t = 300, loss = 0.0720\n",
      "t = 400, loss = 0.3915\n",
      "Starting epoch 6 / 10\n",
      "t = 100, loss = 0.2913\n",
      "t = 200, loss = 0.1795\n",
      "t = 300, loss = 0.1360\n",
      "t = 400, loss = 0.0619\n",
      "Starting epoch 7 / 10\n",
      "t = 100, loss = 0.1054\n",
      "t = 200, loss = 0.0706\n",
      "t = 300, loss = 0.0799\n",
      "t = 400, loss = 0.0180\n",
      "Starting epoch 8 / 10\n",
      "t = 100, loss = 0.1059\n",
      "t = 200, loss = 0.1358\n",
      "t = 300, loss = 0.1191\n",
      "t = 400, loss = 0.2480\n",
      "Starting epoch 9 / 10\n",
      "t = 100, loss = 0.2051\n",
      "t = 200, loss = 0.1838\n",
      "t = 300, loss = 0.1516\n",
      "t = 400, loss = 0.0802\n",
      "Starting epoch 10 / 10\n",
      "t = 100, loss = 0.0860\n",
      "t = 200, loss = 0.0474\n",
      "t = 300, loss = 0.0129\n",
      "t = 400, loss = 0.0168\n",
      "Got 1527 / 2230 correct (68.48)\n"
     ]
    }
   ],
   "source": [
    "# Fifth Model - Final model\n",
    "torch.cuda.random.manual_seed(12345)\n",
    "fixed_model_3d.apply(reset) \n",
    "fixed_model_3d.train() \n",
    "train_3d(fixed_model_3d, loss_fn, optimizer,clip_dataloader_train, num_epochs=10) \n",
    "fixed_model_3d.eval() \n",
    "check_accuracy_3d(fixed_model_3d, clip_dataloader_val)"
   ]
  },
  {
   "cell_type": "code",
   "execution_count": 54,
   "metadata": {},
   "outputs": [
    {
     "name": "stdout",
     "output_type": "stream",
     "text": [
      "Starting epoch 1 / 10\n"
     ]
    },
    {
     "name": "stderr",
     "output_type": "stream",
     "text": [
      "/anaconda3/lib/python3.6/site-packages/ipykernel_launcher.py:13: UserWarning: invalid index of a 0-dim tensor. This will be an error in PyTorch 0.5. Use tensor.item() to convert a 0-dim tensor to a Python number\n",
      "  del sys.path[0]\n"
     ]
    },
    {
     "name": "stdout",
     "output_type": "stream",
     "text": [
      "t = 100, loss = 0.9959\n",
      "t = 200, loss = 0.9246\n",
      "t = 300, loss = 0.6494\n",
      "t = 400, loss = 0.5452\n",
      "Starting epoch 2 / 10\n",
      "t = 100, loss = 0.4174\n",
      "t = 200, loss = 0.3533\n",
      "t = 300, loss = 0.4003\n",
      "t = 400, loss = 0.8135\n",
      "Starting epoch 3 / 10\n",
      "t = 100, loss = 0.3049\n",
      "t = 200, loss = 0.7425\n",
      "t = 300, loss = 0.4531\n",
      "t = 400, loss = 0.2317\n",
      "Starting epoch 4 / 10\n",
      "t = 100, loss = 0.1043\n",
      "t = 200, loss = 0.4243\n",
      "t = 300, loss = 0.1719\n",
      "t = 400, loss = 0.1178\n",
      "Starting epoch 5 / 10\n",
      "t = 100, loss = 0.2515\n",
      "t = 200, loss = 0.3547\n",
      "t = 300, loss = 0.1463\n",
      "t = 400, loss = 0.3559\n",
      "Starting epoch 6 / 10\n",
      "t = 100, loss = 0.2023\n",
      "t = 200, loss = 0.0599\n",
      "t = 300, loss = 0.0532\n",
      "t = 400, loss = 0.2234\n",
      "Starting epoch 7 / 10\n",
      "t = 100, loss = 0.0152\n",
      "t = 200, loss = 0.1625\n",
      "t = 300, loss = 0.0327\n",
      "t = 400, loss = 0.0076\n",
      "Starting epoch 8 / 10\n",
      "t = 100, loss = 0.0247\n",
      "t = 200, loss = 0.0978\n",
      "t = 300, loss = 0.1313\n",
      "t = 400, loss = 0.2670\n",
      "Starting epoch 9 / 10\n",
      "t = 100, loss = 0.0948\n",
      "t = 200, loss = 0.0362\n",
      "t = 300, loss = 0.0283\n",
      "t = 400, loss = 0.0367\n",
      "Starting epoch 10 / 10\n",
      "t = 100, loss = 0.2317\n",
      "t = 200, loss = 0.2472\n",
      "t = 300, loss = 0.0490\n",
      "t = 400, loss = 0.0355\n",
      "Got 1428 / 2230 correct (64.04)\n"
     ]
    }
   ],
   "source": [
    "torch.cuda.random.manual_seed(12345)\n",
    "fixed_model_3d.apply(reset) \n",
    "fixed_model_3d.train() \n",
    "train_3d(fixed_model_3d, loss_fn, optimizer,clip_dataloader_train, num_epochs=10) \n",
    "fixed_model_3d.eval() \n",
    "check_accuracy_3d(fixed_model_3d, clip_dataloader_val)"
   ]
  },
  {
   "cell_type": "code",
   "execution_count": 50,
   "metadata": {},
   "outputs": [
    {
     "name": "stdout",
     "output_type": "stream",
     "text": [
      "Starting epoch 1 / 10\n"
     ]
    },
    {
     "name": "stderr",
     "output_type": "stream",
     "text": [
      "/anaconda3/lib/python3.6/site-packages/ipykernel_launcher.py:13: UserWarning: invalid index of a 0-dim tensor. This will be an error in PyTorch 0.5. Use tensor.item() to convert a 0-dim tensor to a Python number\n",
      "  del sys.path[0]\n"
     ]
    },
    {
     "name": "stdout",
     "output_type": "stream",
     "text": [
      "t = 100, loss = 1.9300\n",
      "t = 200, loss = 1.4822\n",
      "t = 300, loss = 1.0574\n",
      "t = 400, loss = 1.5905\n",
      "Starting epoch 2 / 10\n",
      "t = 100, loss = 1.7069\n",
      "t = 200, loss = 0.5282\n",
      "t = 300, loss = 0.5969\n",
      "t = 400, loss = 1.1318\n",
      "Starting epoch 3 / 10\n",
      "t = 100, loss = 1.0177\n",
      "t = 200, loss = 0.3719\n",
      "t = 300, loss = 0.6128\n",
      "t = 400, loss = 0.3986\n",
      "Starting epoch 4 / 10\n",
      "t = 100, loss = 0.5080\n",
      "t = 200, loss = 0.7030\n",
      "t = 300, loss = 0.7014\n",
      "t = 400, loss = 0.6665\n",
      "Starting epoch 5 / 10\n",
      "t = 100, loss = 0.4112\n",
      "t = 200, loss = 0.7887\n",
      "t = 300, loss = 0.4671\n",
      "t = 400, loss = 0.8185\n",
      "Starting epoch 6 / 10\n",
      "t = 100, loss = 1.0331\n",
      "t = 200, loss = 0.6921\n",
      "t = 300, loss = 0.3144\n",
      "t = 400, loss = 0.3010\n",
      "Starting epoch 7 / 10\n",
      "t = 100, loss = 0.6325\n",
      "t = 200, loss = 0.6348\n",
      "t = 300, loss = 1.4530\n",
      "t = 400, loss = 0.4719\n",
      "Starting epoch 8 / 10\n",
      "t = 100, loss = 0.7725\n",
      "t = 200, loss = 0.5946\n",
      "t = 300, loss = 0.5549\n",
      "t = 400, loss = 0.3875\n",
      "Starting epoch 9 / 10\n",
      "t = 100, loss = 0.5215\n",
      "t = 200, loss = 0.2452\n",
      "t = 300, loss = 0.7311\n",
      "t = 400, loss = 0.5008\n",
      "Starting epoch 10 / 10\n",
      "t = 100, loss = 0.2711\n",
      "t = 200, loss = 0.4705\n",
      "t = 300, loss = 0.5036\n",
      "t = 400, loss = 0.4193\n",
      "Got 1063 / 2230 correct (47.67)\n"
     ]
    }
   ],
   "source": [
    "torch.cuda.random.manual_seed(12345)\n",
    "fixed_model_3d.apply(reset) \n",
    "fixed_model_3d.train() \n",
    "train_3d(fixed_model_3d, loss_fn, optimizer,clip_dataloader_train, num_epochs=10) \n",
    "fixed_model_3d.eval() \n",
    "check_accuracy_3d(fixed_model_3d, clip_dataloader_val)"
   ]
  },
  {
   "cell_type": "code",
   "execution_count": 23,
   "metadata": {},
   "outputs": [
    {
     "name": "stdout",
     "output_type": "stream",
     "text": [
      "Starting epoch 1 / 10\n"
     ]
    },
    {
     "name": "stderr",
     "output_type": "stream",
     "text": [
      "/anaconda3/lib/python3.6/site-packages/ipykernel_launcher.py:13: UserWarning: invalid index of a 0-dim tensor. This will be an error in PyTorch 0.5. Use tensor.item() to convert a 0-dim tensor to a Python number\n",
      "  del sys.path[0]\n"
     ]
    },
    {
     "name": "stdout",
     "output_type": "stream",
     "text": [
      "t = 100, loss = 1.4425\n",
      "t = 200, loss = 1.3213\n",
      "t = 300, loss = 0.9584\n",
      "t = 400, loss = 1.4459\n",
      "Starting epoch 2 / 10\n",
      "t = 100, loss = 1.0034\n",
      "t = 200, loss = 0.7845\n",
      "t = 300, loss = 0.7653\n",
      "t = 400, loss = 0.9606\n",
      "Starting epoch 3 / 10\n",
      "t = 100, loss = 0.6300\n",
      "t = 200, loss = 0.6967\n",
      "t = 300, loss = 0.3529\n",
      "t = 400, loss = 0.2858\n",
      "Starting epoch 4 / 10\n",
      "t = 100, loss = 0.7728\n",
      "t = 200, loss = 0.6766\n",
      "t = 300, loss = 0.1428\n",
      "t = 400, loss = 0.4633\n",
      "Starting epoch 5 / 10\n",
      "t = 100, loss = 0.2738\n",
      "t = 200, loss = 0.2696\n",
      "t = 300, loss = 0.9743\n",
      "t = 400, loss = 0.3560\n",
      "Starting epoch 6 / 10\n",
      "t = 100, loss = 0.1255\n",
      "t = 200, loss = 0.8760\n",
      "t = 300, loss = 0.3537\n",
      "t = 400, loss = 0.2746\n",
      "Starting epoch 7 / 10\n",
      "t = 100, loss = 0.2245\n",
      "t = 200, loss = 0.6381\n",
      "t = 300, loss = 0.2130\n",
      "t = 400, loss = 0.1199\n",
      "Starting epoch 8 / 10\n",
      "t = 100, loss = 0.4597\n",
      "t = 200, loss = 0.2227\n",
      "t = 300, loss = 0.3203\n",
      "t = 400, loss = 0.2551\n",
      "Starting epoch 9 / 10\n",
      "t = 100, loss = 0.0763\n",
      "t = 200, loss = 0.3842\n",
      "t = 300, loss = 0.2014\n",
      "t = 400, loss = 0.2465\n",
      "Starting epoch 10 / 10\n",
      "t = 100, loss = 0.1908\n",
      "t = 200, loss = 0.2039\n",
      "t = 300, loss = 0.2778\n",
      "t = 400, loss = 0.3202\n",
      "Got 1262 / 2230 correct (56.59)\n"
     ]
    }
   ],
   "source": [
    "torch.cuda.random.manual_seed(12345)\n",
    "fixed_model_3d.apply(reset) \n",
    "fixed_model_3d.train() \n",
    "train_3d(fixed_model_3d, loss_fn, optimizer,clip_dataloader_train, num_epochs=10) \n",
    "fixed_model_3d.eval() \n",
    "check_accuracy_3d(fixed_model_3d, clip_dataloader_val)"
   ]
  },
  {
   "cell_type": "code",
   "execution_count": 71,
   "metadata": {},
   "outputs": [
    {
     "name": "stdout",
     "output_type": "stream",
     "text": [
      "Starting epoch 1 / 10\n"
     ]
    },
    {
     "name": "stderr",
     "output_type": "stream",
     "text": [
      "/anaconda3/lib/python3.6/site-packages/ipykernel_launcher.py:13: UserWarning: invalid index of a 0-dim tensor. This will be an error in PyTorch 0.5. Use tensor.item() to convert a 0-dim tensor to a Python number\n",
      "  del sys.path[0]\n"
     ]
    },
    {
     "name": "stdout",
     "output_type": "stream",
     "text": [
      "t = 100, loss = 1.7577\n",
      "t = 200, loss = 1.5239\n",
      "t = 300, loss = 1.0293\n",
      "t = 400, loss = 0.8840\n",
      "Starting epoch 2 / 10\n",
      "t = 100, loss = 0.8858\n",
      "t = 200, loss = 0.7756\n",
      "t = 300, loss = 0.7024\n",
      "t = 400, loss = 0.6548\n",
      "Starting epoch 3 / 10\n",
      "t = 100, loss = 0.4647\n",
      "t = 200, loss = 0.4214\n",
      "t = 300, loss = 0.5107\n",
      "t = 400, loss = 0.2809\n",
      "Starting epoch 4 / 10\n",
      "t = 100, loss = 0.3629\n",
      "t = 200, loss = 0.2722\n",
      "t = 300, loss = 0.3906\n",
      "t = 400, loss = 0.1943\n",
      "Starting epoch 5 / 10\n",
      "t = 100, loss = 0.4652\n",
      "t = 200, loss = 0.3013\n",
      "t = 300, loss = 0.2516\n",
      "t = 400, loss = 0.1837\n",
      "Starting epoch 6 / 10\n",
      "t = 100, loss = 0.1927\n",
      "t = 200, loss = 0.1184\n",
      "t = 300, loss = 0.2952\n",
      "t = 400, loss = 0.4080\n",
      "Starting epoch 7 / 10\n",
      "t = 100, loss = 0.4607\n",
      "t = 200, loss = 0.3313\n",
      "t = 300, loss = 0.2440\n",
      "t = 400, loss = 0.1913\n",
      "Starting epoch 8 / 10\n",
      "t = 100, loss = 0.2389\n",
      "t = 200, loss = 0.1219\n",
      "t = 300, loss = 0.2175\n",
      "t = 400, loss = 0.6064\n",
      "Starting epoch 9 / 10\n",
      "t = 100, loss = 0.2449\n",
      "t = 200, loss = 0.0976\n",
      "t = 300, loss = 0.0978\n",
      "t = 400, loss = 0.0971\n",
      "Starting epoch 10 / 10\n",
      "t = 100, loss = 0.0108\n",
      "t = 200, loss = 0.0681\n",
      "t = 300, loss = 0.3404\n",
      "t = 400, loss = 0.2032\n",
      "Got 1498 / 2230 correct (67.17)\n"
     ]
    }
   ],
   "source": [
    "torch.cuda.random.manual_seed(12345)\n",
    "fixed_model_3d.apply(reset) \n",
    "fixed_model_3d.train() \n",
    "train_3d(fixed_model_3d, loss_fn, optimizer,clip_dataloader_train, num_epochs=10) \n",
    "fixed_model_3d.eval() \n",
    "check_accuracy_3d(fixed_model_3d, clip_dataloader_val)"
   ]
  },
  {
   "cell_type": "markdown",
   "metadata": {
    "collapsed": true
   },
   "source": [
    "Test your 3d convolution model on the validation set. You don't need to submit the result of this part to kaggle.  "
   ]
  },
  {
   "cell_type": "markdown",
   "metadata": {
    "collapsed": true
   },
   "source": [
    "Test your model on the test set, predict_on_test_3d() will generate a file named 'results_3d.csv'. Please submit the csv file to kaggle https://www.kaggle.com/c/cse512springhw3video\n",
    "The highest 3 entries get extra 10 points.\n"
   ]
  },
  {
   "cell_type": "code",
   "execution_count": 94,
   "metadata": {},
   "outputs": [
    {
     "name": "stdout",
     "output_type": "stream",
     "text": [
      "3270\n"
     ]
    }
   ],
   "source": [
    "def predict_on_test_3d(model, loader):\n",
    "    '''\n",
    "    if loader.dataset.train:\n",
    "        print('Checking accuracy on validation set')\n",
    "    else:\n",
    "        print('Checking accuracy on test set')  \n",
    "    '''\n",
    "    num_correct = 0\n",
    "    num_samples = 0\n",
    "    model.eval() # Put the model in test mode (the opposite of model.train(), essentially)\n",
    "    results=open('results_3d.csv','w')\n",
    "    count=0\n",
    "    results.write('Id'+','+'Class'+'\\n')\n",
    "    for t, sample in enumerate(loader):\n",
    "        x_var = Variable(sample['clip'].type(dtype))\n",
    "        scores = model(x_var)\n",
    "        _, preds = scores.data.max(1)\n",
    "        for i in range(len(preds)):\n",
    "            results.write(str(count)+','+str(preds[i])+'\\n')\n",
    "            count+=1\n",
    "    results.close()\n",
    "    return count\n",
    "    \n",
    "count=predict_on_test_3d(fixed_model_3d, clip_dataloader_test)\n",
    "print(count)"
   ]
  },
  {
   "cell_type": "code",
   "execution_count": null,
   "metadata": {
    "collapsed": true
   },
   "outputs": [],
   "source": []
  },
  {
   "cell_type": "code",
   "execution_count": 81,
   "metadata": {
    "collapsed": true
   },
   "outputs": [],
   "source": [
    "# Correcting the CSV File for Kaggle Submission"
   ]
  },
  {
   "cell_type": "code",
   "execution_count": 95,
   "metadata": {},
   "outputs": [],
   "source": [
    "#csv_df = pd.read_csv('results.csv')\n",
    "csv_df = pd.read_csv('results_3d.csv')\n",
    "ans = []\n",
    "for i in range(len(csv_df)):\n",
    "    ans.append(csv_df['Class'][i][7])\n",
    "csv_df['Class'] = ans"
   ]
  },
  {
   "cell_type": "code",
   "execution_count": 96,
   "metadata": {},
   "outputs": [],
   "source": [
    "csv_df.to_csv('/Users/astitvnagpal/Desktop/class_3d.csv', index=None)"
   ]
  },
  {
   "cell_type": "code",
   "execution_count": null,
   "metadata": {
    "collapsed": true
   },
   "outputs": [],
   "source": []
  }
 ],
 "metadata": {
  "kernelspec": {
   "display_name": "Python 3",
   "language": "python",
   "name": "python3"
  },
  "language_info": {
   "codemirror_mode": {
    "name": "ipython",
    "version": 3
   },
   "file_extension": ".py",
   "mimetype": "text/x-python",
   "name": "python",
   "nbconvert_exporter": "python",
   "pygments_lexer": "ipython3",
   "version": "3.6.3"
  }
 },
 "nbformat": 4,
 "nbformat_minor": 1
}
